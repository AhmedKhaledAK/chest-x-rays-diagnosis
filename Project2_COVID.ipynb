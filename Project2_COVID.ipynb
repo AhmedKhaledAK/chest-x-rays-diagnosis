{
  "nbformat": 4,
  "nbformat_minor": 0,
  "metadata": {
    "accelerator": "GPU",
    "colab": {
      "name": "Project2_COVID.ipynb",
      "provenance": [],
      "collapsed_sections": [],
      "include_colab_link": true
    },
    "kernelspec": {
      "display_name": "Python 3",
      "name": "python3"
    }
  },
  "cells": [
    {
      "cell_type": "markdown",
      "metadata": {
        "id": "view-in-github",
        "colab_type": "text"
      },
      "source": [
        "<a href=\"https://colab.research.google.com/github/AhmedKhaledAK/chest-x-rays-diagnosis/blob/master/Project2_COVID.ipynb\" target=\"_parent\"><img src=\"https://colab.research.google.com/assets/colab-badge.svg\" alt=\"Open In Colab\"/></a>"
      ]
    },
    {
      "cell_type": "markdown",
      "metadata": {
        "id": "o4vVgOFgfS1R"
      },
      "source": [
        "**Mount Drive**"
      ]
    },
    {
      "cell_type": "code",
      "metadata": {
        "colab": {
          "base_uri": "https://localhost:8080/"
        },
        "id": "DPRpF2ElHyw-",
        "outputId": "1516191e-0de5-48a6-bd48-530557bccdd2"
      },
      "source": [
        "from google.colab import drive\n",
        "drive.mount('/content/drive')"
      ],
      "execution_count": null,
      "outputs": [
        {
          "output_type": "stream",
          "text": [
            "Mounted at /content/drive\n"
          ],
          "name": "stdout"
        }
      ]
    },
    {
      "cell_type": "markdown",
      "metadata": {
        "id": "tMt5ixm3fVR2"
      },
      "source": [
        "**Import necessary libraries**"
      ]
    },
    {
      "cell_type": "code",
      "metadata": {
        "id": "le5iOu12H1cI"
      },
      "source": [
        "import matplotlib.pyplot as plt\n",
        "import numpy as np\n",
        "from PIL import Image\n",
        "import cv2\n",
        "from sklearn.datasets import make_blobs\n",
        "from sklearn.model_selection import train_test_split\n",
        "import pickle \n",
        "from keras.models import Sequential\n",
        "from keras.layers import Dense\n",
        "import tensorflow as tf\n",
        "import keras\n",
        "from keras.layers import Conv2D, MaxPooling2D, Flatten, Dense\n",
        "from sklearn.metrics import confusion_matrix, accuracy_score, precision_score, recall_score, f1_score, classification_report"
      ],
      "execution_count": null,
      "outputs": []
    },
    {
      "cell_type": "markdown",
      "metadata": {
        "id": "MeMqpSKqsrwL"
      },
      "source": [
        "**Data augmentation methods**\r\n",
        "\r\n",
        "\r\n"
      ]
    },
    {
      "cell_type": "code",
      "metadata": {
        "id": "9ySn_Qjxs0gD"
      },
      "source": [
        "def horizontal_flip(img):\r\n",
        "  out = cv2.flip(img, 1)\r\n",
        "  return out    \r\n",
        "    \r\n",
        "def vertical_flip(img):\r\n",
        "  out = cv2.flip(img, 0)\r\n",
        "  return out\r\n",
        "  \r\n",
        "def rotation(img):\r\n",
        "  out = cv2.rotate(img, cv2.ROTATE_90_CLOCKWISE)\r\n",
        "  return out "
      ],
      "execution_count": null,
      "outputs": []
    },
    {
      "cell_type": "markdown",
      "metadata": {
        "id": "Mz6Q2lSSf8SP"
      },
      "source": [
        "**Read images from directory, augment them and save the augmented images into the directory**\n"
      ]
    },
    {
      "cell_type": "code",
      "metadata": {
        "id": "CJdTOhKuF-CC"
      },
      "source": [
        "def augment_images(dir_path):\n",
        "  for i in range(1, 1201):\n",
        "    # read image from directory\n",
        "    image = cv2.imread(dir_path.format(i), cv2.IMREAD_GRAYSCALE)\n",
        "\n",
        "    # augment image\n",
        "    if i < 401:\n",
        "      aug_image = horizontal_flip(image)\n",
        "    elif i < 801:\n",
        "      aug_image = vertical_flip(image)\n",
        "    else:\n",
        "      aug_image = rotation(image)\n",
        "\n",
        "    # save augmented image to directory\n",
        "    cv2.imwrite(dir_path.format(i+1200), aug_image)"
      ],
      "execution_count": null,
      "outputs": []
    },
    {
      "cell_type": "markdown",
      "metadata": {
        "id": "LQfPGvAU8GBN"
      },
      "source": [
        "**Augment the images in all 3 directories**"
      ]
    },
    {
      "cell_type": "code",
      "metadata": {
        "id": "QYCtIHu51YZG"
      },
      "source": [
        "augment_images('/content/drive/MyDrive/Kaggle/COVID-19 Radiography Database/COVID/COVID ({}).png')\n",
        "augment_images('/content/drive/MyDrive/Kaggle/COVID-19 Radiography Database/NORMAL/NORMAL ({}).png')\n",
        "augment_images('/content/drive/MyDrive/Kaggle/COVID-19 Radiography Database/Viral Pneumonia/Viral Pneumonia ({}).png')"
      ],
      "execution_count": null,
      "outputs": []
    },
    {
      "cell_type": "markdown",
      "metadata": {
        "id": "1im1RR09rJ90"
      },
      "source": [
        "**Model Test functions**"
      ]
    },
    {
      "cell_type": "code",
      "metadata": {
        "id": "I1ap9igVrPkw"
      },
      "source": [
        "def report(y_pred,y_test):\r\n",
        "  print(\"Confusion_matrix\")\r\n",
        "  classes=[0,1,2]\r\n",
        "  print(confusion_matrix(y_test, y_pred, labels=classes))\r\n",
        "  print('\\nAccuracy: {:.2f}\\n'.format(accuracy_score(y_test, y_pred)))\r\n",
        "  print('Weighted Precision: {:.2f}'.format(precision_score(y_test, y_pred, average='weighted')))\r\n",
        "  print('Weighted Recall: {:.2f}'.format(recall_score(y_test, y_pred, average='weighted')))\r\n",
        "  print('Weighted F1-score: {:.2f}'.format(f1_score(y_test, y_pred, average='weighted')))\r\n",
        "  print('\\nClassification Report\\n')\r\n",
        "  print(classification_report(y_test, y_pred, target_names=['Covid', 'Normal', 'Viral Pneumonia']))\r\n",
        "\r\n",
        "def test_model(test_data_generator,y_test):\r\n",
        "  y_pred = model.predict(test_data_generator)\r\n",
        "  y_hat=[]\r\n",
        "  for i in range(len(y_pred)):\r\n",
        "    max_number = max(y_pred[i])\r\n",
        "    index_of_maximum = np.where(y_pred[i] == max_number)\r\n",
        "    y_hat.append(index_of_maximum[0][0])\r\n",
        "  report(y_hat,y_test)  "
      ],
      "execution_count": null,
      "outputs": []
    },
    {
      "cell_type": "markdown",
      "metadata": {
        "id": "d2PzxHWhhcmA"
      },
      "source": [
        "**DataGenerator class**"
      ]
    },
    {
      "cell_type": "code",
      "metadata": {
        "id": "H61TytHJVzg8"
      },
      "source": [
        "import time\r\n",
        "class DataGenerator(keras.utils.Sequence):\r\n",
        "\r\n",
        "  def __init__(self, list_IDs, labels, batch_size, dim, n_classes, convolutional, n_channels=3, shuffle=False):\r\n",
        "    self.list_IDs = list_IDs\r\n",
        "    self.labels = labels\r\n",
        "    self.batch_size = batch_size\r\n",
        "    self.dim = dim\r\n",
        "    self.n_classes = n_classes\r\n",
        "    self.n_channels = n_channels\r\n",
        "    self.shuffle = shuffle\r\n",
        "    self.convolutional = convolutional\r\n",
        "    self.on_epoch_end()\r\n",
        "\r\n",
        "  def __len__(self):\r\n",
        "    # Number of batches per epoch\r\n",
        "    return int(np.ceil(len(self.list_IDs) / self.batch_size))\r\n",
        "\r\n",
        "  def __getitem__(self, index):\r\n",
        "    # Generate one batch of data\r\n",
        "\r\n",
        "    # generate indexes of the batch\r\n",
        "    if(((index+1)*self.batch_size) < len(self.list_IDs)):\r\n",
        "      indexes = self.indexes[index*self.batch_size : (index+1)*self.batch_size]\r\n",
        "    else:\r\n",
        "      indexes = self.indexes[index*self.batch_size : len(self.list_IDs)]\r\n",
        "    \r\n",
        "    # find list of IDs corresponding to these indexes\r\n",
        "    list_IDs_temp = [self.list_IDs[k] for k in indexes]\r\n",
        "    \r\n",
        "    # generate data\r\n",
        "    X, y = self.__data_generation(list_IDs_temp,len(indexes))\r\n",
        "    \r\n",
        "    return X, y\r\n",
        "\r\n",
        "  def __data_generation(self, list_IDs_temp,size_of_batch):\r\n",
        "    # Generates data\r\n",
        "\r\n",
        "    # if CNN, data dimensions are (batch_size, n, n, n_channels)\r\n",
        "    if self.convolutional:\r\n",
        "      X = np.empty((size_of_batch, *self.dim, self.n_channels))\r\n",
        "    else:\r\n",
        "      X = np.empty((size_of_batch, self.dim*self.n_channels))\r\n",
        "\r\n",
        "    y = np.empty((size_of_batch), dtype=int)\r\n",
        "\r\n",
        "    # generate data\r\n",
        "    for i, ID in enumerate(list_IDs_temp):\r\n",
        "      if ID <= 2400:\r\n",
        "        # load image (ID) from COVID folder\r\n",
        "        image = cv2.imread(\"/content/drive/MyDrive/Kaggle/COVID-19 Radiography Database/COVID/COVID ({}).png\".format(ID))\r\n",
        "      elif ID <= 4800:\r\n",
        "        # load image (ID-2400) from NORMAL folder\r\n",
        "        image = cv2.imread(\"/content/drive/MyDrive/Kaggle/COVID-19 Radiography Database/NORMAL/NORMAL ({}).png\".format(ID-2400))\r\n",
        "      else:\r\n",
        "        # load image (ID-4800) from Viral Pneumonia folder\r\n",
        "        image = cv2.imread(\"/content/drive/MyDrive/Kaggle/COVID-19 Radiography Database/Viral Pneumonia/Viral Pneumonia ({}).png\".format(ID-4800))\r\n",
        "\r\n",
        "      image = cv2.resize(image, (256, 256))\r\n",
        "      arr = tf.keras.applications.mobilenet_v2.preprocess_input(np.array(image))\r\n",
        "\r\n",
        "      if self.convolutional:\r\n",
        "        arr = arr.reshape(256,256,3)\r\n",
        "      else:\r\n",
        "        arr = arr.flatten()\r\n",
        "\r\n",
        "      X[i,] = arr\r\n",
        "      y[i] = self.labels[ID-1]\r\n",
        "\r\n",
        "    return X, keras.utils.to_categorical(y, num_classes=self.n_classes)\r\n",
        "\r\n",
        "  def on_epoch_end(self):\r\n",
        "    # Update indexes after each epoch\r\n",
        "    self.indexes = np.arange(len(self.list_IDs))\r\n",
        "    if self.shuffle == True:\r\n",
        "        np.random.shuffle(self.indexes)"
      ],
      "execution_count": null,
      "outputs": []
    },
    {
      "cell_type": "code",
      "metadata": {
        "id": "3-GWNkmnvfKn"
      },
      "source": [
        "@tf.function\n",
        "def train_step(x, y,loss_fn,optimizer,train_acc_metric):\n",
        "  # open a gradienttape to record operations done during forward pass\n",
        "  # enables auto-differentiation\n",
        "  with tf.GradientTape() as tape:\n",
        "    # run forward pass of layer\n",
        "    logits = model(x, training=True)\n",
        "\n",
        "    # compute loss value for this batch\n",
        "    loss_value = loss_fn(y, logits)\n",
        "  \n",
        "  # use gradient tape to get gradients of trainable variables wrt loss\n",
        "  gradients = tape.gradient(loss_value, model.trainable_weights)\n",
        "\n",
        "  # run one step of gradient descent (update value of weights to minimize loss)\n",
        "  optimizer.apply_gradients(zip(gradients, model.trainable_weights))\n",
        "\n",
        "  # update training metric\n",
        "  train_acc_metric.update_state(y, logits)\n",
        "\n",
        "  return loss_value"
      ],
      "execution_count": null,
      "outputs": []
    },
    {
      "cell_type": "code",
      "metadata": {
        "id": "rtFdG0VSzBge"
      },
      "source": [
        "@tf.function\n",
        "def validation_step(x, y,val_acc_metric):\n",
        "    val_logits = model(x, training=False)\n",
        "    # update validation metrics\n",
        "    val_acc_metric.update_state(y, val_logits)"
      ],
      "execution_count": null,
      "outputs": []
    },
    {
      "cell_type": "code",
      "metadata": {
        "id": "vT6J1bI-TXa6"
      },
      "source": [
        "def training_loop(num_epochs, batch_size, training_generator, validation_generator):\r\n",
        "  # instantiate an optimizer (stochastic gradient descent, learning rate = 0.001)\r\n",
        "  optimizer = keras.optimizers.Adam(learning_rate=0.0001)\r\n",
        "\r\n",
        "  # instantiate a loss function (categorical crossentropy)\r\n",
        "  loss_fn = keras.losses.CategoricalCrossentropy(from_logits=True)\r\n",
        "\r\n",
        "  # Prepare the metrics\r\n",
        "  train_acc_metric = keras.metrics.CategoricalAccuracy()\r\n",
        "  val_acc_metric = keras.metrics.CategoricalAccuracy()\r\n",
        "\r\n",
        "  # prepare training dataset\r\n",
        "  batch_size = batch_size\r\n",
        "\r\n",
        "  epochs = num_epochs\r\n",
        "  num_batches = training_generator.__len__()\r\n",
        "\r\n",
        "  for epoch in range(epochs):\r\n",
        "    print(\"\\n\\nStart of epoch \", epoch)\r\n",
        "    Total_loss = 0\r\n",
        "    # iterate over all batches in dataset\r\n",
        "    for i in range(num_batches):\r\n",
        "      x_batch_train, y_batch_train = training_generator.__getitem__(i)\r\n",
        "\r\n",
        "      Total_loss += train_step(x_batch_train, y_batch_train,loss_fn,optimizer,train_acc_metric)\r\n",
        "    \r\n",
        "    Total_loss = Total_loss/num_batches\r\n",
        "    # Display metrics at the end of each epoch.\r\n",
        "    train_acc = train_acc_metric.result()\r\n",
        "    print(\"Training acc over epoch: %.4f\" % (float(train_acc),))\r\n",
        "    print(\"Loss value over epoch: %.4f\" % (float(Total_loss),))\r\n",
        "\r\n",
        "    # Reset training metrics at the end of each epoch\r\n",
        "    train_acc_metric.reset_states()\r\n",
        "\r\n",
        "    # Run a validation loop at the end of each epoch.\r\n",
        "    for i in range(validation_generator.__len__()):\r\n",
        "      x_batch_val, y_batch_val = validation_generator.__getitem__(i)\r\n",
        "      validation_step(x_batch_val, y_batch_val,val_acc_metric)\r\n",
        "\r\n",
        "    val_acc = val_acc_metric.result()\r\n",
        "    val_acc_metric.reset_states()\r\n",
        "    print(\"Validation acc: %.4f\" % (float(val_acc),))\r\n",
        "    "
      ],
      "execution_count": null,
      "outputs": []
    },
    {
      "cell_type": "markdown",
      "metadata": {
        "id": "bQeAYiHxhmsw"
      },
      "source": [
        "**Dataset consists of 7200 images with IDs 1-7200, and a corresponding label vector**"
      ]
    },
    {
      "cell_type": "code",
      "metadata": {
        "id": "zFDdVzg2FzHe"
      },
      "source": [
        "# Data = 7200 images\n",
        "data = np.arange(1, 7201)\n",
        "\n",
        "# Create label vector\n",
        "label_vector = np.empty((7200))\n",
        "\n",
        "for i in range(0, 2400):\n",
        "  label_vector[i] = 0\n",
        "\n",
        "for i in range(2400, 4800):\n",
        "  label_vector[i] = 1\n",
        "\n",
        "for i in range(4800, 7200):\n",
        "  label_vector[i] = 2\n"
      ],
      "execution_count": null,
      "outputs": []
    },
    {
      "cell_type": "markdown",
      "metadata": {
        "id": "8TBY3m1NhtbN"
      },
      "source": [
        "**Split data into train, validation and test sets to get a 60:20:20 ratio**"
      ]
    },
    {
      "cell_type": "code",
      "metadata": {
        "colab": {
          "base_uri": "https://localhost:8080/"
        },
        "id": "lrsaNm3pHS9Z",
        "outputId": "50b6b314-fd0a-447c-c49b-a634ae8d330d"
      },
      "source": [
        "# split data into train and test (80:20)\n",
        "X_train, X_test, Y_train, Y_test = train_test_split(data, label_vector, test_size=0.2, random_state=1, stratify=label_vector)\n",
        "\n",
        "# split train data into train and validation (75:25)\n",
        "X_train, X_validation, Y_train, Y_validation = train_test_split(X_train, Y_train, test_size=0.25, random_state=1, stratify=Y_train)"
      ],
      "execution_count": null,
      "outputs": [
        {
          "output_type": "stream",
          "text": [
            "(4320,)\n",
            "(1440,)\n",
            "(1440,)\n"
          ],
          "name": "stdout"
        }
      ]
    },
    {
      "cell_type": "code",
      "metadata": {
        "id": "FsXJ75YzHtyB"
      },
      "source": [
        "partition = {\n",
        "    \"train\": X_train,\n",
        "    \"validation\": X_validation,\n",
        "    \"test\": X_test\n",
        "}"
      ],
      "execution_count": null,
      "outputs": []
    },
    {
      "cell_type": "markdown",
      "metadata": {
        "id": "api-zCowh1Ll"
      },
      "source": [
        "**Create a fully connected neural network and train it on our dataset**\n"
      ]
    },
    {
      "cell_type": "markdown",
      "metadata": {
        "id": "PwSN4TsWTd2V"
      },
      "source": [
        "**Load Train and Validation and Test Set For Fully Connected Models**\r\n"
      ]
    },
    {
      "cell_type": "code",
      "metadata": {
        "id": "D3lqMEwoTtiX"
      },
      "source": [
        "training_generator = DataGenerator(partition['train'], label_vector, 32, 256*256, 3, False)\r\n",
        "validation_generator = DataGenerator(partition['validation'], label_vector, 32, 256*256, 3, False)\r\n",
        "test_generator = DataGenerator(partition['test'], label_vector, 32, 256*256, 3, False)"
      ],
      "execution_count": null,
      "outputs": []
    },
    {
      "cell_type": "markdown",
      "metadata": {
        "id": "zlCdN79Bazb8"
      },
      "source": [
        "**Few Layers Model**"
      ]
    },
    {
      "cell_type": "code",
      "metadata": {
        "colab": {
          "base_uri": "https://localhost:8080/"
        },
        "id": "G5fansG_T1zU",
        "outputId": "b702ac1f-09ee-49a6-96a5-a5b8a2a8a77c"
      },
      "source": [
        "# Create model\r\n",
        "model = Sequential()\r\n",
        "model.add(Dense(512,input_dim=256*256*3, activation='relu'))\r\n",
        "model.add(Dense(256,activation='relu'))\r\n",
        "model.add(Dense(128,activation='relu'))\r\n",
        "model.add(Dense(64,activation='relu'))\r\n",
        "model.add(Dense(32,activation='relu'))\r\n",
        "model.add(Dense(3, activation='softmax'))\r\n",
        "\r\n",
        "model.summary()"
      ],
      "execution_count": null,
      "outputs": [
        {
          "output_type": "stream",
          "text": [
            "Model: \"sequential_2\"\n",
            "_________________________________________________________________\n",
            "Layer (type)                 Output Shape              Param #   \n",
            "=================================================================\n",
            "dense_15 (Dense)             (None, 512)               100663808 \n",
            "_________________________________________________________________\n",
            "dense_16 (Dense)             (None, 256)               131328    \n",
            "_________________________________________________________________\n",
            "dense_17 (Dense)             (None, 128)               32896     \n",
            "_________________________________________________________________\n",
            "dense_18 (Dense)             (None, 64)                8256      \n",
            "_________________________________________________________________\n",
            "dense_19 (Dense)             (None, 32)                2080      \n",
            "_________________________________________________________________\n",
            "dense_20 (Dense)             (None, 3)                 99        \n",
            "=================================================================\n",
            "Total params: 100,838,467\n",
            "Trainable params: 100,838,467\n",
            "Non-trainable params: 0\n",
            "_________________________________________________________________\n"
          ],
          "name": "stdout"
        }
      ]
    },
    {
      "cell_type": "markdown",
      "metadata": {
        "id": "rrrQI4-zyQIq"
      },
      "source": [
        "**Training Model**"
      ]
    },
    {
      "cell_type": "code",
      "metadata": {
        "colab": {
          "base_uri": "https://localhost:8080/"
        },
        "id": "ZJbQh_0yyVaK",
        "outputId": "ec622982-8883-4937-ae45-50b12b65592c"
      },
      "source": [
        "# Train model on dataset\r\n",
        "#model.fit_generator(generator=training_generator,validation_data=validation_generator,use_multiprocessing=True, workers=6,epoch)\r\n",
        "#model.fit_generator(generator=training_generator,validation_data=validation_generator,epochs=20)\r\n",
        "training_loop(20, 32, training_generator, validation_generator)"
      ],
      "execution_count": null,
      "outputs": [
        {
          "output_type": "stream",
          "text": [
            "\n",
            "\n",
            "Start of epoch  0\n",
            "Training acc over epoch: 0.8220\n",
            "Loss value over epoch: 0.5409\n",
            "Validation acc: 0.8861\n",
            "\n",
            "\n",
            "Start of epoch  1\n",
            "Training acc over epoch: 0.8836\n",
            "Loss value over epoch: 0.3766\n",
            "Validation acc: 0.8597\n",
            "\n",
            "\n",
            "Start of epoch  2\n",
            "Training acc over epoch: 0.9111\n",
            "Loss value over epoch: 0.2527\n",
            "Validation acc: 0.9007\n",
            "\n",
            "\n",
            "Start of epoch  3\n",
            "Training acc over epoch: 0.9250\n",
            "Loss value over epoch: 0.2179\n",
            "Validation acc: 0.8958\n",
            "\n",
            "\n",
            "Start of epoch  4\n",
            "Training acc over epoch: 0.9438\n",
            "Loss value over epoch: 0.1667\n",
            "Validation acc: 0.9014\n",
            "\n",
            "\n",
            "Start of epoch  5\n",
            "Training acc over epoch: 0.9463\n",
            "Loss value over epoch: 0.1597\n",
            "Validation acc: 0.9035\n",
            "\n",
            "\n",
            "Start of epoch  6\n",
            "Training acc over epoch: 0.9667\n",
            "Loss value over epoch: 0.0971\n",
            "Validation acc: 0.9014\n",
            "\n",
            "\n",
            "Start of epoch  7\n",
            "Training acc over epoch: 0.9708\n",
            "Loss value over epoch: 0.0808\n",
            "Validation acc: 0.9146\n",
            "\n",
            "\n",
            "Start of epoch  8\n",
            "Training acc over epoch: 0.9681\n",
            "Loss value over epoch: 0.0959\n",
            "Validation acc: 0.9118\n",
            "\n",
            "\n",
            "Start of epoch  9\n",
            "Training acc over epoch: 0.9590\n",
            "Loss value over epoch: 0.1125\n",
            "Validation acc: 0.8736\n",
            "\n",
            "\n",
            "Start of epoch  10\n",
            "Training acc over epoch: 0.9639\n",
            "Loss value over epoch: 0.1025\n",
            "Validation acc: 0.9187\n",
            "\n",
            "\n",
            "Start of epoch  11\n",
            "Training acc over epoch: 0.9669\n",
            "Loss value over epoch: 0.0910\n",
            "Validation acc: 0.9153\n",
            "\n",
            "\n",
            "Start of epoch  12\n",
            "Training acc over epoch: 0.9637\n",
            "Loss value over epoch: 0.1251\n",
            "Validation acc: 0.9125\n",
            "\n",
            "\n",
            "Start of epoch  13\n",
            "Training acc over epoch: 0.9655\n",
            "Loss value over epoch: 0.1035\n",
            "Validation acc: 0.9236\n",
            "\n",
            "\n",
            "Start of epoch  14\n",
            "Training acc over epoch: 0.9778\n",
            "Loss value over epoch: 0.0608\n",
            "Validation acc: 0.9243\n",
            "\n",
            "\n",
            "Start of epoch  15\n",
            "Training acc over epoch: 0.9838\n",
            "Loss value over epoch: 0.0472\n",
            "Validation acc: 0.9257\n",
            "\n",
            "\n",
            "Start of epoch  16\n",
            "Training acc over epoch: 0.9870\n",
            "Loss value over epoch: 0.0373\n",
            "Validation acc: 0.9257\n",
            "\n",
            "\n",
            "Start of epoch  17\n",
            "Training acc over epoch: 0.9907\n",
            "Loss value over epoch: 0.0259\n",
            "Validation acc: 0.9035\n",
            "\n",
            "\n",
            "Start of epoch  18\n",
            "Training acc over epoch: 0.9850\n",
            "Loss value over epoch: 0.0436\n",
            "Validation acc: 0.9167\n",
            "\n",
            "\n",
            "Start of epoch  19\n",
            "Training acc over epoch: 0.9850\n",
            "Loss value over epoch: 0.0433\n",
            "Validation acc: 0.9160\n"
          ],
          "name": "stdout"
        }
      ]
    },
    {
      "cell_type": "markdown",
      "metadata": {
        "id": "mWs2b4M6yS_A"
      },
      "source": [
        "**Testing Model**"
      ]
    },
    {
      "cell_type": "code",
      "metadata": {
        "colab": {
          "base_uri": "https://localhost:8080/"
        },
        "id": "OsPb-ez8yYQR",
        "outputId": "34ed88ae-bc7f-4e4d-f56e-66a749c3830a"
      },
      "source": [
        "#test_generator = DataGenerator(partition['test'], label_vector, 32, 256*256, 3, False, shuffle=False)\r\n",
        "test_model(test_generator, Y_test)"
      ],
      "execution_count": null,
      "outputs": [
        {
          "output_type": "stream",
          "text": [
            "confusion_matrix\n",
            "[[462   3  15]\n",
            " [ 11 417  52]\n",
            " [ 15  19 446]]\n",
            "\n",
            "Accuracy: 0.92\n",
            "\n",
            "Weighted Precision: 0.92\n",
            "Weighted Recall: 0.92\n",
            "Weighted F1-score: 0.92\n",
            "\n",
            "Classification Report\n",
            "\n",
            "                 precision    recall  f1-score   support\n",
            "\n",
            "          Covid       0.95      0.96      0.95       480\n",
            "         Normal       0.95      0.87      0.91       480\n",
            "Viral Pneumonia       0.87      0.93      0.90       480\n",
            "\n",
            "       accuracy                           0.92      1440\n",
            "      macro avg       0.92      0.92      0.92      1440\n",
            "   weighted avg       0.92      0.92      0.92      1440\n",
            "\n"
          ],
          "name": "stdout"
        }
      ]
    },
    {
      "cell_type": "markdown",
      "metadata": {
        "id": "bXKr2quBsW01"
      },
      "source": [
        "**Many Layers**"
      ]
    },
    {
      "cell_type": "code",
      "metadata": {
        "colab": {
          "base_uri": "https://localhost:8080/"
        },
        "id": "HpVKWdUDsbn6",
        "outputId": "94ce5e82-f1a1-41f4-cc5f-6552bc7ebeab"
      },
      "source": [
        "model = Sequential()\r\n",
        "model.add(Dense(1024,input_dim=256*256*3, activation='relu'))\r\n",
        "model.add(Dense(512,activation='relu'))\r\n",
        "model.add(Dense(256,activation='relu'))\r\n",
        "model.add(Dense(128,activation='relu'))\r\n",
        "model.add(Dense(128,activation='relu'))\r\n",
        "model.add(Dense(128,activation='relu'))\r\n",
        "model.add(Dense(64,activation='relu'))\r\n",
        "model.add(Dense(32,activation='relu'))\r\n",
        "model.add(Dense(3, activation='softmax'))\r\n",
        "model.summary()"
      ],
      "execution_count": null,
      "outputs": [
        {
          "output_type": "stream",
          "text": [
            "Model: \"sequential_1\"\n",
            "_________________________________________________________________\n",
            "Layer (type)                 Output Shape              Param #   \n",
            "=================================================================\n",
            "dense_6 (Dense)              (None, 1024)              201327616 \n",
            "_________________________________________________________________\n",
            "dense_7 (Dense)              (None, 512)               524800    \n",
            "_________________________________________________________________\n",
            "dense_8 (Dense)              (None, 256)               131328    \n",
            "_________________________________________________________________\n",
            "dense_9 (Dense)              (None, 128)               32896     \n",
            "_________________________________________________________________\n",
            "dense_10 (Dense)             (None, 128)               16512     \n",
            "_________________________________________________________________\n",
            "dense_11 (Dense)             (None, 128)               16512     \n",
            "_________________________________________________________________\n",
            "dense_12 (Dense)             (None, 64)                8256      \n",
            "_________________________________________________________________\n",
            "dense_13 (Dense)             (None, 32)                2080      \n",
            "_________________________________________________________________\n",
            "dense_14 (Dense)             (None, 3)                 99        \n",
            "=================================================================\n",
            "Total params: 202,060,099\n",
            "Trainable params: 202,060,099\n",
            "Non-trainable params: 0\n",
            "_________________________________________________________________\n"
          ],
          "name": "stdout"
        }
      ]
    },
    {
      "cell_type": "markdown",
      "metadata": {
        "id": "1NCPxFDCT-Dy"
      },
      "source": [
        "**Training Model**"
      ]
    },
    {
      "cell_type": "code",
      "metadata": {
        "colab": {
          "base_uri": "https://localhost:8080/"
        },
        "id": "94TtygrFIWX9",
        "outputId": "0ca80832-aaf3-4439-9353-61c873aad751"
      },
      "source": [
        "# Train model on dataset\n",
        "#model.fit_generator(generator=training_generator,validation_data=validation_generator,use_multiprocessing=True, workers=6,epoch)\n",
        "#model.fit_generator(generator=training_generator,validation_data=validation_generator,epochs=20)\n",
        "training_loop(20,32,training_generator,validation_generator)"
      ],
      "execution_count": null,
      "outputs": [
        {
          "output_type": "stream",
          "text": [
            "\n",
            "\n",
            "Start of epoch  0\n",
            "Training acc over epoch: 0.8215\n",
            "Loss value over epoch: 0.4517\n",
            "Validation acc: 0.8743\n",
            "\n",
            "\n",
            "Start of epoch  1\n",
            "Training acc over epoch: 0.8894\n",
            "Loss value over epoch: 0.3141\n",
            "Validation acc: 0.8535\n",
            "\n",
            "\n",
            "Start of epoch  2\n",
            "Training acc over epoch: 0.9176\n",
            "Loss value over epoch: 0.2302\n",
            "Validation acc: 0.8889\n",
            "\n",
            "\n",
            "Start of epoch  3\n",
            "Training acc over epoch: 0.9324\n",
            "Loss value over epoch: 0.1893\n",
            "Validation acc: 0.8958\n",
            "\n",
            "\n",
            "Start of epoch  4\n",
            "Training acc over epoch: 0.9347\n",
            "Loss value over epoch: 0.1722\n",
            "Validation acc: 0.8778\n",
            "\n",
            "\n",
            "Start of epoch  5\n",
            "Training acc over epoch: 0.9484\n",
            "Loss value over epoch: 0.1491\n",
            "Validation acc: 0.9125\n",
            "\n",
            "\n",
            "Start of epoch  6\n",
            "Training acc over epoch: 0.9542\n",
            "Loss value over epoch: 0.1247\n",
            "Validation acc: 0.8882\n",
            "\n",
            "\n",
            "Start of epoch  7\n",
            "Training acc over epoch: 0.9609\n",
            "Loss value over epoch: 0.1151\n",
            "Validation acc: 0.8771\n",
            "\n",
            "\n",
            "Start of epoch  8\n",
            "Training acc over epoch: 0.9486\n",
            "Loss value over epoch: 0.1430\n",
            "Validation acc: 0.9174\n",
            "\n",
            "\n",
            "Start of epoch  9\n",
            "Training acc over epoch: 0.9609\n",
            "Loss value over epoch: 0.1017\n",
            "Validation acc: 0.9090\n",
            "\n",
            "\n",
            "Start of epoch  10\n",
            "Training acc over epoch: 0.9734\n",
            "Loss value over epoch: 0.0785\n",
            "Validation acc: 0.9215\n",
            "\n",
            "\n",
            "Start of epoch  11\n",
            "Training acc over epoch: 0.9674\n",
            "Loss value over epoch: 0.0875\n",
            "Validation acc: 0.9215\n",
            "\n",
            "\n",
            "Start of epoch  12\n",
            "Training acc over epoch: 0.9704\n",
            "Loss value over epoch: 0.0803\n",
            "Validation acc: 0.9167\n",
            "\n",
            "\n",
            "Start of epoch  13\n",
            "Training acc over epoch: 0.9836\n",
            "Loss value over epoch: 0.0478\n",
            "Validation acc: 0.9285\n",
            "\n",
            "\n",
            "Start of epoch  14\n",
            "Training acc over epoch: 0.9731\n",
            "Loss value over epoch: 0.0779\n",
            "Validation acc: 0.9097\n",
            "\n",
            "\n",
            "Start of epoch  15\n",
            "Training acc over epoch: 0.9725\n",
            "Loss value over epoch: 0.0711\n",
            "Validation acc: 0.9201\n",
            "\n",
            "\n",
            "Start of epoch  16\n",
            "Training acc over epoch: 0.9780\n",
            "Loss value over epoch: 0.0628\n",
            "Validation acc: 0.9069\n",
            "\n",
            "\n",
            "Start of epoch  17\n",
            "Training acc over epoch: 0.9750\n",
            "Loss value over epoch: 0.0679\n",
            "Validation acc: 0.9139\n",
            "\n",
            "\n",
            "Start of epoch  18\n",
            "Training acc over epoch: 0.9866\n",
            "Loss value over epoch: 0.0365\n",
            "Validation acc: 0.9139\n",
            "\n",
            "\n",
            "Start of epoch  19\n",
            "Training acc over epoch: 0.9755\n",
            "Loss value over epoch: 0.0739\n",
            "Validation acc: 0.9146\n"
          ],
          "name": "stdout"
        }
      ]
    },
    {
      "cell_type": "markdown",
      "metadata": {
        "id": "u_qmeM3ws9Jp"
      },
      "source": [
        "**Testing Model**"
      ]
    },
    {
      "cell_type": "code",
      "metadata": {
        "colab": {
          "base_uri": "https://localhost:8080/"
        },
        "id": "kzIxJxbwsexS",
        "outputId": "415e5804-5be5-4410-96b5-40264ca14a68"
      },
      "source": [
        "#test_generator = DataGenerator(partition['test'], label_vector, 32, 256*256, 3, False, shuffle=False)\n",
        "test_model(test_generator, Y_test)"
      ],
      "execution_count": null,
      "outputs": [
        {
          "output_type": "stream",
          "text": [
            "confusion_matrix\n",
            "[[463   6  11]\n",
            " [  7 412  61]\n",
            " [ 10  23 447]]\n",
            "\n",
            "Accuracy: 0.92\n",
            "\n",
            "Weighted Precision: 0.92\n",
            "Weighted Recall: 0.92\n",
            "Weighted F1-score: 0.92\n",
            "\n",
            "Classification Report\n",
            "\n",
            "                 precision    recall  f1-score   support\n",
            "\n",
            "          Covid       0.96      0.96      0.96       480\n",
            "         Normal       0.93      0.86      0.89       480\n",
            "Viral Pneumonia       0.86      0.93      0.89       480\n",
            "\n",
            "       accuracy                           0.92      1440\n",
            "      macro avg       0.92      0.92      0.92      1440\n",
            "   weighted avg       0.92      0.92      0.92      1440\n",
            "\n"
          ],
          "name": "stdout"
        }
      ]
    },
    {
      "cell_type": "markdown",
      "metadata": {
        "id": "fhm3rk1ehNRn"
      },
      "source": [
        "\n",
        "**CNN**"
      ]
    },
    {
      "cell_type": "code",
      "metadata": {
        "id": "oWJe89Qz4kMo"
      },
      "source": [
        "training_generator = DataGenerator(partition['train'], label_vector, 32, (256, 256), 3, True,3)\r\n",
        "validation_generator = DataGenerator(partition['validation'], label_vector, 32, (256, 256), 3, True,3)\r\n",
        "test_generator = DataGenerator(partition['test'], label_vector, 32, (256, 256), 3, True,3)"
      ],
      "execution_count": null,
      "outputs": []
    },
    {
      "cell_type": "markdown",
      "metadata": {
        "id": "XMCTBR8Q4sKA"
      },
      "source": [
        "**Few Convolution Layers**"
      ]
    },
    {
      "cell_type": "code",
      "metadata": {
        "colab": {
          "base_uri": "https://localhost:8080/"
        },
        "id": "cCW81zzkiDy7",
        "outputId": "4de311ac-2240-42db-c4b9-eacf119c635a"
      },
      "source": [
        "model =Sequential()\n",
        "\n",
        "model.add(Conv2D(32, (3, 3), activation='relu', input_shape=(256, 256, 3)))\n",
        "model.add(MaxPooling2D((2, 2)))\n",
        "model.add(Conv2D(64, (3, 3), activation='relu'))\n",
        "model.add(Flatten())\n",
        "model.add(Dense(32,activation='relu'))\n",
        "model.add(Dense(3, activation='softmax'))\n",
        "\n",
        "model.summary()"
      ],
      "execution_count": null,
      "outputs": [
        {
          "output_type": "stream",
          "text": [
            "Model: \"sequential_3\"\n",
            "_________________________________________________________________\n",
            "Layer (type)                 Output Shape              Param #   \n",
            "=================================================================\n",
            "conv2d (Conv2D)              (None, 254, 254, 32)      896       \n",
            "_________________________________________________________________\n",
            "max_pooling2d (MaxPooling2D) (None, 127, 127, 32)      0         \n",
            "_________________________________________________________________\n",
            "conv2d_1 (Conv2D)            (None, 125, 125, 64)      18496     \n",
            "_________________________________________________________________\n",
            "flatten (Flatten)            (None, 1000000)           0         \n",
            "_________________________________________________________________\n",
            "dense_21 (Dense)             (None, 32)                32000032  \n",
            "_________________________________________________________________\n",
            "dense_22 (Dense)             (None, 3)                 99        \n",
            "=================================================================\n",
            "Total params: 32,019,523\n",
            "Trainable params: 32,019,523\n",
            "Non-trainable params: 0\n",
            "_________________________________________________________________\n"
          ],
          "name": "stdout"
        }
      ]
    },
    {
      "cell_type": "markdown",
      "metadata": {
        "id": "xjdEvGdb49Bs"
      },
      "source": [
        "**Train the model**"
      ]
    },
    {
      "cell_type": "code",
      "metadata": {
        "colab": {
          "base_uri": "https://localhost:8080/"
        },
        "id": "UJMCP6RU5IVG",
        "outputId": "8450b199-d1f3-4676-81e5-d8fbd4a79dd8"
      },
      "source": [
        "training_loop(20, 32, training_generator, validation_generator)"
      ],
      "execution_count": null,
      "outputs": [
        {
          "output_type": "stream",
          "text": [
            "\n",
            "\n",
            "Start of epoch  0\n",
            "Training acc over epoch: 0.8132\n",
            "Loss value over epoch: 0.4847\n",
            "Validation acc: 0.9014\n",
            "\n",
            "\n",
            "Start of epoch  1\n",
            "Training acc over epoch: 0.9354\n",
            "Loss value over epoch: 0.1963\n",
            "Validation acc: 0.9375\n",
            "\n",
            "\n",
            "Start of epoch  2\n",
            "Training acc over epoch: 0.9549\n",
            "Loss value over epoch: 0.1315\n",
            "Validation acc: 0.9375\n",
            "\n",
            "\n",
            "Start of epoch  3\n",
            "Training acc over epoch: 0.9722\n",
            "Loss value over epoch: 0.0897\n",
            "Validation acc: 0.9479\n",
            "\n",
            "\n",
            "Start of epoch  4\n",
            "Training acc over epoch: 0.9810\n",
            "Loss value over epoch: 0.0666\n",
            "Validation acc: 0.9389\n",
            "\n",
            "\n",
            "Start of epoch  5\n",
            "Training acc over epoch: 0.9856\n",
            "Loss value over epoch: 0.0510\n",
            "Validation acc: 0.9410\n",
            "\n",
            "\n",
            "Start of epoch  6\n",
            "Training acc over epoch: 0.9896\n",
            "Loss value over epoch: 0.0387\n",
            "Validation acc: 0.9521\n",
            "\n",
            "\n",
            "Start of epoch  7\n",
            "Training acc over epoch: 0.9940\n",
            "Loss value over epoch: 0.0250\n",
            "Validation acc: 0.9493\n",
            "\n",
            "\n",
            "Start of epoch  8\n",
            "Training acc over epoch: 0.9968\n",
            "Loss value over epoch: 0.0188\n",
            "Validation acc: 0.9507\n",
            "\n",
            "\n",
            "Start of epoch  9\n",
            "Training acc over epoch: 0.9979\n",
            "Loss value over epoch: 0.0165\n",
            "Validation acc: 0.9472\n",
            "\n",
            "\n",
            "Start of epoch  10\n",
            "Training acc over epoch: 0.9975\n",
            "Loss value over epoch: 0.0156\n",
            "Validation acc: 0.9319\n",
            "\n",
            "\n",
            "Start of epoch  11\n",
            "Training acc over epoch: 0.9984\n",
            "Loss value over epoch: 0.0094\n",
            "Validation acc: 0.9507\n",
            "\n",
            "\n",
            "Start of epoch  12\n",
            "Training acc over epoch: 1.0000\n",
            "Loss value over epoch: 0.0036\n",
            "Validation acc: 0.9500\n",
            "\n",
            "\n",
            "Start of epoch  13\n",
            "Training acc over epoch: 1.0000\n",
            "Loss value over epoch: 0.0021\n",
            "Validation acc: 0.9472\n",
            "\n",
            "\n",
            "Start of epoch  14\n",
            "Training acc over epoch: 1.0000\n",
            "Loss value over epoch: 0.0016\n",
            "Validation acc: 0.9479\n",
            "\n",
            "\n",
            "Start of epoch  15\n",
            "Training acc over epoch: 1.0000\n",
            "Loss value over epoch: 0.0012\n",
            "Validation acc: 0.9500\n",
            "\n",
            "\n",
            "Start of epoch  16\n",
            "Training acc over epoch: 1.0000\n",
            "Loss value over epoch: 0.0010\n",
            "Validation acc: 0.9507\n",
            "\n",
            "\n",
            "Start of epoch  17\n",
            "Training acc over epoch: 1.0000\n",
            "Loss value over epoch: 0.0009\n",
            "Validation acc: 0.9521\n",
            "\n",
            "\n",
            "Start of epoch  18\n",
            "Training acc over epoch: 1.0000\n",
            "Loss value over epoch: 0.0007\n",
            "Validation acc: 0.9528\n",
            "\n",
            "\n",
            "Start of epoch  19\n",
            "Training acc over epoch: 1.0000\n",
            "Loss value over epoch: 0.0006\n",
            "Validation acc: 0.9521\n"
          ],
          "name": "stdout"
        }
      ]
    },
    {
      "cell_type": "markdown",
      "metadata": {
        "id": "Q9C-s2Dq4_-m"
      },
      "source": [
        "**Test the model**"
      ]
    },
    {
      "cell_type": "code",
      "metadata": {
        "colab": {
          "base_uri": "https://localhost:8080/"
        },
        "id": "wmbfyhgE5MJ-",
        "outputId": "ff62ea20-e602-4c90-df05-ccf1d63832b7"
      },
      "source": [
        "test_model(test_generator, Y_test)"
      ],
      "execution_count": null,
      "outputs": [
        {
          "output_type": "stream",
          "text": [
            "confusion_matrix\n",
            "[[473   1   6]\n",
            " [  4 457  19]\n",
            " [ 14  20 446]]\n",
            "\n",
            "Accuracy: 0.96\n",
            "\n",
            "Weighted Precision: 0.96\n",
            "Weighted Recall: 0.96\n",
            "Weighted F1-score: 0.96\n",
            "\n",
            "Classification Report\n",
            "\n",
            "                 precision    recall  f1-score   support\n",
            "\n",
            "          Covid       0.96      0.99      0.97       480\n",
            "         Normal       0.96      0.95      0.95       480\n",
            "Viral Pneumonia       0.95      0.93      0.94       480\n",
            "\n",
            "       accuracy                           0.96      1440\n",
            "      macro avg       0.96      0.96      0.96      1440\n",
            "   weighted avg       0.96      0.96      0.96      1440\n",
            "\n"
          ],
          "name": "stdout"
        }
      ]
    },
    {
      "cell_type": "markdown",
      "metadata": {
        "id": "P97AKlae-4MU"
      },
      "source": [
        "**Many Convolution Layers**"
      ]
    },
    {
      "cell_type": "code",
      "metadata": {
        "colab": {
          "base_uri": "https://localhost:8080/"
        },
        "id": "ll0U_4F4-9Br",
        "outputId": "3377fc5b-1e80-4259-f444-073075c3caee"
      },
      "source": [
        "model = Sequential()\r\n",
        "\r\n",
        "model.add(Conv2D(64, (3, 3), activation='relu', input_shape=(256, 256, 3)))\r\n",
        "model.add(MaxPooling2D((2, 2)))\r\n",
        "\r\n",
        "model.add(Conv2D(128, (3, 3), activation='relu'))\r\n",
        "model.add(MaxPooling2D((2, 2)))\r\n",
        "\r\n",
        "model.add(Conv2D(128, (3, 3), activation='relu'))\r\n",
        "model.add(MaxPooling2D((2, 2)))\r\n",
        "\r\n",
        "model.add(Conv2D(128, (3, 3), activation='relu'))\r\n",
        "model.add(Flatten())\r\n",
        "\r\n",
        "model.add(Dense(64,activation='relu'))\r\n",
        "model.add(Dense(32,activation='relu'))\r\n",
        "model.add(Dense(3, activation='softmax'))\r\n",
        "model.summary()"
      ],
      "execution_count": null,
      "outputs": [
        {
          "output_type": "stream",
          "text": [
            "Model: \"sequential_4\"\n",
            "_________________________________________________________________\n",
            "Layer (type)                 Output Shape              Param #   \n",
            "=================================================================\n",
            "conv2d_2 (Conv2D)            (None, 254, 254, 64)      1792      \n",
            "_________________________________________________________________\n",
            "max_pooling2d_1 (MaxPooling2 (None, 127, 127, 64)      0         \n",
            "_________________________________________________________________\n",
            "conv2d_3 (Conv2D)            (None, 125, 125, 128)     73856     \n",
            "_________________________________________________________________\n",
            "max_pooling2d_2 (MaxPooling2 (None, 62, 62, 128)       0         \n",
            "_________________________________________________________________\n",
            "conv2d_4 (Conv2D)            (None, 60, 60, 128)       147584    \n",
            "_________________________________________________________________\n",
            "max_pooling2d_3 (MaxPooling2 (None, 30, 30, 128)       0         \n",
            "_________________________________________________________________\n",
            "conv2d_5 (Conv2D)            (None, 28, 28, 128)       147584    \n",
            "_________________________________________________________________\n",
            "flatten_1 (Flatten)          (None, 100352)            0         \n",
            "_________________________________________________________________\n",
            "dense_23 (Dense)             (None, 64)                6422592   \n",
            "_________________________________________________________________\n",
            "dense_24 (Dense)             (None, 32)                2080      \n",
            "_________________________________________________________________\n",
            "dense_25 (Dense)             (None, 3)                 99        \n",
            "=================================================================\n",
            "Total params: 6,795,587\n",
            "Trainable params: 6,795,587\n",
            "Non-trainable params: 0\n",
            "_________________________________________________________________\n"
          ],
          "name": "stdout"
        }
      ]
    },
    {
      "cell_type": "markdown",
      "metadata": {
        "id": "qog62nl-_HJz"
      },
      "source": [
        "**Train the model**"
      ]
    },
    {
      "cell_type": "code",
      "metadata": {
        "colab": {
          "base_uri": "https://localhost:8080/"
        },
        "id": "IXERJbFa_LG5",
        "outputId": "83a70d38-0812-4606-a8eb-d85a999749f7"
      },
      "source": [
        "training_loop(20, 32, training_generator, validation_generator)"
      ],
      "execution_count": null,
      "outputs": [
        {
          "output_type": "stream",
          "text": [
            "\n",
            "\n",
            "Start of epoch  0\n",
            "Training acc over epoch: 0.8160\n",
            "Loss value over epoch: 0.4605\n",
            "Validation acc: 0.9174\n",
            "\n",
            "\n",
            "Start of epoch  1\n",
            "Training acc over epoch: 0.9169\n",
            "Loss value over epoch: 0.2258\n",
            "Validation acc: 0.9417\n",
            "\n",
            "\n",
            "Start of epoch  2\n",
            "Training acc over epoch: 0.9444\n",
            "Loss value over epoch: 0.1646\n",
            "Validation acc: 0.9431\n",
            "\n",
            "\n",
            "Start of epoch  3\n",
            "Training acc over epoch: 0.9535\n",
            "Loss value over epoch: 0.1374\n",
            "Validation acc: 0.9458\n",
            "\n",
            "\n",
            "Start of epoch  4\n",
            "Training acc over epoch: 0.9657\n",
            "Loss value over epoch: 0.0999\n",
            "Validation acc: 0.9500\n",
            "\n",
            "\n",
            "Start of epoch  5\n",
            "Training acc over epoch: 0.9745\n",
            "Loss value over epoch: 0.0780\n",
            "Validation acc: 0.9431\n",
            "\n",
            "\n",
            "Start of epoch  6\n",
            "Training acc over epoch: 0.9775\n",
            "Loss value over epoch: 0.0701\n",
            "Validation acc: 0.9021\n",
            "\n",
            "\n",
            "Start of epoch  7\n",
            "Training acc over epoch: 0.9757\n",
            "Loss value over epoch: 0.0766\n",
            "Validation acc: 0.9062\n",
            "\n",
            "\n",
            "Start of epoch  8\n",
            "Training acc over epoch: 0.9775\n",
            "Loss value over epoch: 0.0637\n",
            "Validation acc: 0.9465\n",
            "\n",
            "\n",
            "Start of epoch  9\n",
            "Training acc over epoch: 0.9817\n",
            "Loss value over epoch: 0.0496\n",
            "Validation acc: 0.9486\n",
            "\n",
            "\n",
            "Start of epoch  10\n",
            "Training acc over epoch: 0.9843\n",
            "Loss value over epoch: 0.0461\n",
            "Validation acc: 0.9417\n",
            "\n",
            "\n",
            "Start of epoch  11\n",
            "Training acc over epoch: 0.9905\n",
            "Loss value over epoch: 0.0278\n",
            "Validation acc: 0.9333\n",
            "\n",
            "\n",
            "Start of epoch  12\n",
            "Training acc over epoch: 0.9926\n",
            "Loss value over epoch: 0.0260\n",
            "Validation acc: 0.9215\n",
            "\n",
            "\n",
            "Start of epoch  13\n",
            "Training acc over epoch: 0.9965\n",
            "Loss value over epoch: 0.0161\n",
            "Validation acc: 0.9361\n",
            "\n",
            "\n",
            "Start of epoch  14\n",
            "Training acc over epoch: 0.9979\n",
            "Loss value over epoch: 0.0104\n",
            "Validation acc: 0.9521\n",
            "\n",
            "\n",
            "Start of epoch  15\n",
            "Training acc over epoch: 0.9995\n",
            "Loss value over epoch: 0.0026\n",
            "Validation acc: 0.9528\n",
            "\n",
            "\n",
            "Start of epoch  16\n",
            "Training acc over epoch: 0.9958\n",
            "Loss value over epoch: 0.0127\n",
            "Validation acc: 0.9451\n",
            "\n",
            "\n",
            "Start of epoch  17\n",
            "Training acc over epoch: 0.9986\n",
            "Loss value over epoch: 0.0040\n",
            "Validation acc: 0.9486\n",
            "\n",
            "\n",
            "Start of epoch  18\n",
            "Training acc over epoch: 0.9972\n",
            "Loss value over epoch: 0.0096\n",
            "Validation acc: 0.9507\n",
            "\n",
            "\n",
            "Start of epoch  19\n",
            "Training acc over epoch: 0.9970\n",
            "Loss value over epoch: 0.0081\n",
            "Validation acc: 0.9479\n"
          ],
          "name": "stdout"
        }
      ]
    },
    {
      "cell_type": "markdown",
      "metadata": {
        "id": "NCejfneh_LOJ"
      },
      "source": [
        "**Testing Model**"
      ]
    },
    {
      "cell_type": "code",
      "metadata": {
        "colab": {
          "base_uri": "https://localhost:8080/"
        },
        "id": "nbnyNS8A_Taj",
        "outputId": "aa7f7d77-f85c-4f10-ac06-65c9b97f6ca0"
      },
      "source": [
        "test_model(test_generator,Y_test)"
      ],
      "execution_count": null,
      "outputs": [
        {
          "output_type": "stream",
          "text": [
            "confusion_matrix\n",
            "[[470   4   6]\n",
            " [  6 464  10]\n",
            " [ 14  29 437]]\n",
            "\n",
            "Accuracy: 0.95\n",
            "\n",
            "Weighted Precision: 0.95\n",
            "Weighted Recall: 0.95\n",
            "Weighted F1-score: 0.95\n",
            "\n",
            "Classification Report\n",
            "\n",
            "                 precision    recall  f1-score   support\n",
            "\n",
            "          Covid       0.96      0.98      0.97       480\n",
            "         Normal       0.93      0.97      0.95       480\n",
            "Viral Pneumonia       0.96      0.91      0.94       480\n",
            "\n",
            "       accuracy                           0.95      1440\n",
            "      macro avg       0.95      0.95      0.95      1440\n",
            "   weighted avg       0.95      0.95      0.95      1440\n",
            "\n"
          ],
          "name": "stdout"
        }
      ]
    },
    {
      "cell_type": "markdown",
      "metadata": {
        "id": "bV1b2wIJJtPs"
      },
      "source": [
        "**Pretrained Models Without Pretrained Weights**"
      ]
    },
    {
      "cell_type": "markdown",
      "metadata": {
        "id": "60hTbCVnLFRl"
      },
      "source": [
        "**ResNet50**"
      ]
    },
    {
      "cell_type": "code",
      "metadata": {
        "id": "iYpFEaXIKtIQ"
      },
      "source": [
        "base_model = tf.keras.applications.ResNet50(\r\n",
        "                include_top=False,\r\n",
        "                weights=None,\r\n",
        "                input_tensor=None,\r\n",
        "                input_shape=(256,256,3),\r\n",
        "                pooling='avg',\r\n",
        "                classes=3,\r\n",
        "                classifier_activation=\"softmax\",\r\n",
        "                )\r\n",
        "\r\n",
        "base_model.trainable = False\r\n",
        "inputs = keras.Input(shape=(256, 256,3))\r\n",
        "x = base_model(inputs, training=False)\r\n",
        "outputs = keras.layers.Dense(3 ,activation='softmax')(x)\r\n",
        "model = keras.Model(inputs, outputs)"
      ],
      "execution_count": null,
      "outputs": []
    },
    {
      "cell_type": "code",
      "metadata": {
        "colab": {
          "base_uri": "https://localhost:8080/"
        },
        "id": "-MiE7PcoM-zj",
        "outputId": "44c3b61c-f517-467b-f6c3-eda5f240ce5b"
      },
      "source": [
        "model.summary()"
      ],
      "execution_count": null,
      "outputs": [
        {
          "output_type": "stream",
          "text": [
            "Model: \"model_1\"\n",
            "_________________________________________________________________\n",
            "Layer (type)                 Output Shape              Param #   \n",
            "=================================================================\n",
            "input_4 (InputLayer)         [(None, 256, 256, 3)]     0         \n",
            "_________________________________________________________________\n",
            "resnet50 (Functional)        (None, 2048)              23587712  \n",
            "_________________________________________________________________\n",
            "dense_27 (Dense)             (None, 3)                 6147      \n",
            "=================================================================\n",
            "Total params: 23,593,859\n",
            "Trainable params: 6,147\n",
            "Non-trainable params: 23,587,712\n",
            "_________________________________________________________________\n"
          ],
          "name": "stdout"
        }
      ]
    },
    {
      "cell_type": "code",
      "metadata": {
        "colab": {
          "base_uri": "https://localhost:8080/"
        },
        "id": "OR-Eea98M_hw",
        "outputId": "3f86183b-51d3-4c49-ba16-5e9f4a538aad"
      },
      "source": [
        "training_loop(20, 32, training_generator, validation_generator)"
      ],
      "execution_count": null,
      "outputs": [
        {
          "output_type": "stream",
          "text": [
            "\n",
            "\n",
            "Start of epoch  0\n",
            "Training acc over epoch: 0.3333\n",
            "Loss value over epoch: 1.0973\n",
            "Validation acc: 0.3333\n",
            "\n",
            "\n",
            "Start of epoch  1\n",
            "Training acc over epoch: 0.3333\n",
            "Loss value over epoch: 1.0955\n",
            "Validation acc: 0.3333\n",
            "\n",
            "\n",
            "Start of epoch  2\n",
            "Training acc over epoch: 0.3333\n",
            "Loss value over epoch: 1.0942\n",
            "Validation acc: 0.3333\n",
            "\n",
            "\n",
            "Start of epoch  3\n",
            "Training acc over epoch: 0.3333\n",
            "Loss value over epoch: 1.0929\n",
            "Validation acc: 0.3333\n",
            "\n",
            "\n",
            "Start of epoch  4\n",
            "Training acc over epoch: 0.3333\n",
            "Loss value over epoch: 1.0915\n",
            "Validation acc: 0.3333\n",
            "\n",
            "\n",
            "Start of epoch  5\n",
            "Training acc over epoch: 0.3333\n",
            "Loss value over epoch: 1.0902\n",
            "Validation acc: 0.3333\n",
            "\n",
            "\n",
            "Start of epoch  6\n",
            "Training acc over epoch: 0.3333\n",
            "Loss value over epoch: 1.0890\n",
            "Validation acc: 0.3333\n",
            "\n",
            "\n",
            "Start of epoch  7\n",
            "Training acc over epoch: 0.3333\n",
            "Loss value over epoch: 1.0877\n",
            "Validation acc: 0.3333\n",
            "\n",
            "\n",
            "Start of epoch  8\n",
            "Training acc over epoch: 0.3338\n",
            "Loss value over epoch: 1.0864\n",
            "Validation acc: 0.3333\n",
            "\n",
            "\n",
            "Start of epoch  9\n",
            "Training acc over epoch: 0.3361\n",
            "Loss value over epoch: 1.0851\n",
            "Validation acc: 0.3340\n",
            "\n",
            "\n",
            "Start of epoch  10\n",
            "Training acc over epoch: 0.3396\n",
            "Loss value over epoch: 1.0838\n",
            "Validation acc: 0.3354\n",
            "\n",
            "\n",
            "Start of epoch  11\n",
            "Training acc over epoch: 0.3447\n",
            "Loss value over epoch: 1.0826\n",
            "Validation acc: 0.3368\n",
            "\n",
            "\n",
            "Start of epoch  12\n",
            "Training acc over epoch: 0.3528\n",
            "Loss value over epoch: 1.0813\n",
            "Validation acc: 0.3424\n",
            "\n",
            "\n",
            "Start of epoch  13\n",
            "Training acc over epoch: 0.3637\n",
            "Loss value over epoch: 1.0801\n",
            "Validation acc: 0.3542\n",
            "\n",
            "\n",
            "Start of epoch  14\n",
            "Training acc over epoch: 0.3748\n",
            "Loss value over epoch: 1.0789\n",
            "Validation acc: 0.3639\n",
            "\n",
            "\n",
            "Start of epoch  15\n",
            "Training acc over epoch: 0.3836\n",
            "Loss value over epoch: 1.0776\n",
            "Validation acc: 0.3708\n",
            "\n",
            "\n",
            "Start of epoch  16\n",
            "Training acc over epoch: 0.3968\n",
            "Loss value over epoch: 1.0764\n",
            "Validation acc: 0.3806\n",
            "\n",
            "\n",
            "Start of epoch  17\n",
            "Training acc over epoch: 0.4074\n",
            "Loss value over epoch: 1.0752\n",
            "Validation acc: 0.3972\n",
            "\n",
            "\n",
            "Start of epoch  18\n",
            "Training acc over epoch: 0.4183\n",
            "Loss value over epoch: 1.0740\n",
            "Validation acc: 0.4062\n",
            "\n",
            "\n",
            "Start of epoch  19\n",
            "Training acc over epoch: 0.4301\n",
            "Loss value over epoch: 1.0728\n",
            "Validation acc: 0.4160\n"
          ],
          "name": "stdout"
        }
      ]
    },
    {
      "cell_type": "code",
      "metadata": {
        "colab": {
          "base_uri": "https://localhost:8080/"
        },
        "id": "U558gD9hOCw8",
        "outputId": "c03571a3-fc0e-4346-84f0-85d96a050999"
      },
      "source": [
        "base_model.trainable = True\r\n",
        "model.summary()"
      ],
      "execution_count": null,
      "outputs": [
        {
          "output_type": "stream",
          "text": [
            "Model: \"model_1\"\n",
            "_________________________________________________________________\n",
            "Layer (type)                 Output Shape              Param #   \n",
            "=================================================================\n",
            "input_4 (InputLayer)         [(None, 256, 256, 3)]     0         \n",
            "_________________________________________________________________\n",
            "resnet50 (Functional)        (None, 2048)              23587712  \n",
            "_________________________________________________________________\n",
            "dense_27 (Dense)             (None, 3)                 6147      \n",
            "=================================================================\n",
            "Total params: 23,593,859\n",
            "Trainable params: 23,540,739\n",
            "Non-trainable params: 53,120\n",
            "_________________________________________________________________\n"
          ],
          "name": "stdout"
        }
      ]
    },
    {
      "cell_type": "code",
      "metadata": {
        "colab": {
          "base_uri": "https://localhost:8080/"
        },
        "id": "5Ta5kegOOFNX",
        "outputId": "15254113-441c-4fe7-b509-8a0f0eba1a17"
      },
      "source": [
        "training_loop(20, 32, training_generator, validation_generator)"
      ],
      "execution_count": null,
      "outputs": [
        {
          "output_type": "stream",
          "text": [
            "\n",
            "\n",
            "Start of epoch  0\n",
            "Training acc over epoch: 0.6211\n",
            "Loss value over epoch: 0.7935\n",
            "Validation acc: 0.8076\n",
            "\n",
            "\n",
            "Start of epoch  1\n",
            "Training acc over epoch: 0.8278\n",
            "Loss value over epoch: 0.4731\n",
            "Validation acc: 0.8528\n",
            "\n",
            "\n",
            "Start of epoch  2\n",
            "Training acc over epoch: 0.8664\n",
            "Loss value over epoch: 0.3873\n",
            "Validation acc: 0.8847\n",
            "\n",
            "\n",
            "Start of epoch  3\n",
            "Training acc over epoch: 0.8854\n",
            "Loss value over epoch: 0.3249\n",
            "Validation acc: 0.9049\n",
            "\n",
            "\n",
            "Start of epoch  4\n",
            "Training acc over epoch: 0.9118\n",
            "Loss value over epoch: 0.2532\n",
            "Validation acc: 0.9236\n",
            "\n",
            "\n",
            "Start of epoch  5\n",
            "Training acc over epoch: 0.9275\n",
            "Loss value over epoch: 0.2004\n",
            "Validation acc: 0.9306\n",
            "\n",
            "\n",
            "Start of epoch  6\n",
            "Training acc over epoch: 0.9426\n",
            "Loss value over epoch: 0.1718\n",
            "Validation acc: 0.9375\n",
            "\n",
            "\n",
            "Start of epoch  7\n",
            "Training acc over epoch: 0.9479\n",
            "Loss value over epoch: 0.1490\n",
            "Validation acc: 0.9410\n",
            "\n",
            "\n",
            "Start of epoch  8\n",
            "Training acc over epoch: 0.9514\n",
            "Loss value over epoch: 0.1435\n",
            "Validation acc: 0.9333\n",
            "\n",
            "\n",
            "Start of epoch  9\n",
            "Training acc over epoch: 0.9618\n",
            "Loss value over epoch: 0.1180\n",
            "Validation acc: 0.9326\n",
            "\n",
            "\n",
            "Start of epoch  10\n",
            "Training acc over epoch: 0.9667\n",
            "Loss value over epoch: 0.1016\n",
            "Validation acc: 0.9069\n",
            "\n",
            "\n",
            "Start of epoch  11\n",
            "Training acc over epoch: 0.9648\n",
            "Loss value over epoch: 0.0987\n",
            "Validation acc: 0.9507\n",
            "\n",
            "\n",
            "Start of epoch  12\n",
            "Training acc over epoch: 0.9745\n",
            "Loss value over epoch: 0.0777\n",
            "Validation acc: 0.9285\n",
            "\n",
            "\n",
            "Start of epoch  13\n",
            "Training acc over epoch: 0.9713\n",
            "Loss value over epoch: 0.0836\n",
            "Validation acc: 0.9111\n",
            "\n",
            "\n",
            "Start of epoch  14\n",
            "Training acc over epoch: 0.9669\n",
            "Loss value over epoch: 0.1009\n",
            "Validation acc: 0.9021\n",
            "\n",
            "\n",
            "Start of epoch  15\n",
            "Training acc over epoch: 0.9752\n",
            "Loss value over epoch: 0.0731\n",
            "Validation acc: 0.8792\n",
            "\n",
            "\n",
            "Start of epoch  16\n",
            "Training acc over epoch: 0.9750\n",
            "Loss value over epoch: 0.0663\n",
            "Validation acc: 0.9083\n",
            "\n",
            "\n",
            "Start of epoch  17\n",
            "Training acc over epoch: 0.9796\n",
            "Loss value over epoch: 0.0561\n",
            "Validation acc: 0.9021\n",
            "\n",
            "\n",
            "Start of epoch  18\n",
            "Training acc over epoch: 0.9794\n",
            "Loss value over epoch: 0.0589\n",
            "Validation acc: 0.9569\n",
            "\n",
            "\n",
            "Start of epoch  19\n",
            "Training acc over epoch: 0.9808\n",
            "Loss value over epoch: 0.0490\n",
            "Validation acc: 0.9201\n"
          ],
          "name": "stdout"
        }
      ]
    },
    {
      "cell_type": "code",
      "metadata": {
        "colab": {
          "base_uri": "https://localhost:8080/"
        },
        "id": "kDq3SLnGj_CN",
        "outputId": "249f4af3-2303-46d1-a9ea-c2871f407716"
      },
      "source": [
        "test_model(test_generator, Y_test)"
      ],
      "execution_count": null,
      "outputs": [
        {
          "output_type": "stream",
          "text": [
            "confusion_matrix\n",
            "[[469   2   9]\n",
            " [  2 407  71]\n",
            " [  8  12 460]]\n",
            "\n",
            "Accuracy: 0.93\n",
            "\n",
            "Weighted Precision: 0.93\n",
            "Weighted Recall: 0.93\n",
            "Weighted F1-score: 0.93\n",
            "\n",
            "Classification Report\n",
            "\n",
            "                 precision    recall  f1-score   support\n",
            "\n",
            "          Covid       0.98      0.98      0.98       480\n",
            "         Normal       0.97      0.85      0.90       480\n",
            "Viral Pneumonia       0.85      0.96      0.90       480\n",
            "\n",
            "       accuracy                           0.93      1440\n",
            "      macro avg       0.93      0.93      0.93      1440\n",
            "   weighted avg       0.93      0.93      0.93      1440\n",
            "\n"
          ],
          "name": "stdout"
        }
      ]
    },
    {
      "cell_type": "markdown",
      "metadata": {
        "id": "EBlYeNNqkc4Q"
      },
      "source": [
        "**Inception V3**"
      ]
    },
    {
      "cell_type": "code",
      "metadata": {
        "id": "-Gir0tpRkfF4"
      },
      "source": [
        "base_model = tf.keras.applications.InceptionV3(\r\n",
        "                include_top=False,\r\n",
        "                weights=None,\r\n",
        "                input_tensor=None,\r\n",
        "                input_shape=(256,256,3),\r\n",
        "                pooling='avg',\r\n",
        "                classes=3,\r\n",
        "                classifier_activation=\"softmax\",\r\n",
        "               )\r\n",
        "\r\n",
        "    \r\n",
        "base_model.trainable = False\r\n",
        "inputs = keras.Input(shape=(256, 256,3))\r\n",
        "x = base_model(inputs, training=False)\r\n",
        "outputs = keras.layers.Dense(3 ,activation='softmax')(x)\r\n",
        "model = keras.Model(inputs, outputs)"
      ],
      "execution_count": null,
      "outputs": []
    },
    {
      "cell_type": "code",
      "metadata": {
        "colab": {
          "base_uri": "https://localhost:8080/"
        },
        "id": "ivf9mcnlkrkh",
        "outputId": "79b2d154-cb01-46da-81b3-6e4d86ff764e"
      },
      "source": [
        "model.summary()"
      ],
      "execution_count": null,
      "outputs": [
        {
          "output_type": "stream",
          "text": [
            "Model: \"model_3\"\n",
            "_________________________________________________________________\n",
            "Layer (type)                 Output Shape              Param #   \n",
            "=================================================================\n",
            "input_8 (InputLayer)         [(None, 256, 256, 3)]     0         \n",
            "_________________________________________________________________\n",
            "inception_v3 (Functional)    (None, 2048)              21802784  \n",
            "_________________________________________________________________\n",
            "dense_29 (Dense)             (None, 3)                 6147      \n",
            "=================================================================\n",
            "Total params: 21,808,931\n",
            "Trainable params: 6,147\n",
            "Non-trainable params: 21,802,784\n",
            "_________________________________________________________________\n"
          ],
          "name": "stdout"
        }
      ]
    },
    {
      "cell_type": "code",
      "metadata": {
        "colab": {
          "base_uri": "https://localhost:8080/"
        },
        "id": "4bROUD5Qkrq2",
        "outputId": "d1453356-587b-4d79-e77f-4fea905d78b8"
      },
      "source": [
        "training_loop(20, 32, training_generator, validation_generator)"
      ],
      "execution_count": null,
      "outputs": [
        {
          "output_type": "stream",
          "text": [
            "\n",
            "\n",
            "Start of epoch  0\n",
            "Training acc over epoch: 0.3322\n",
            "Loss value over epoch: 1.0985\n",
            "Validation acc: 0.3333\n",
            "\n",
            "\n",
            "Start of epoch  1\n",
            "Training acc over epoch: 0.3333\n",
            "Loss value over epoch: 1.0984\n",
            "Validation acc: 0.3333\n",
            "\n",
            "\n",
            "Start of epoch  2\n",
            "Training acc over epoch: 0.3333\n",
            "Loss value over epoch: 1.0982\n",
            "Validation acc: 0.3333\n",
            "\n",
            "\n",
            "Start of epoch  3\n",
            "Training acc over epoch: 0.3333\n",
            "Loss value over epoch: 1.0981\n",
            "Validation acc: 0.3333\n",
            "\n",
            "\n",
            "Start of epoch  4\n",
            "Training acc over epoch: 0.3333\n",
            "Loss value over epoch: 1.0979\n",
            "Validation acc: 0.3333\n",
            "\n",
            "\n",
            "Start of epoch  5\n",
            "Training acc over epoch: 0.3333\n",
            "Loss value over epoch: 1.0978\n",
            "Validation acc: 0.3333\n",
            "\n",
            "\n",
            "Start of epoch  6\n",
            "Training acc over epoch: 0.3333\n",
            "Loss value over epoch: 1.0976\n",
            "Validation acc: 0.3333\n",
            "\n",
            "\n",
            "Start of epoch  7\n",
            "Training acc over epoch: 0.3333\n",
            "Loss value over epoch: 1.0975\n",
            "Validation acc: 0.3333\n",
            "\n",
            "\n",
            "Start of epoch  8\n",
            "Training acc over epoch: 0.3333\n",
            "Loss value over epoch: 1.0974\n",
            "Validation acc: 0.3333\n",
            "\n",
            "\n",
            "Start of epoch  9\n",
            "Training acc over epoch: 0.3333\n",
            "Loss value over epoch: 1.0972\n",
            "Validation acc: 0.3333\n",
            "\n",
            "\n",
            "Start of epoch  10\n",
            "Training acc over epoch: 0.3336\n",
            "Loss value over epoch: 1.0971\n",
            "Validation acc: 0.3333\n",
            "\n",
            "\n",
            "Start of epoch  11\n",
            "Training acc over epoch: 0.3336\n",
            "Loss value over epoch: 1.0970\n",
            "Validation acc: 0.3333\n",
            "\n",
            "\n",
            "Start of epoch  12\n",
            "Training acc over epoch: 0.3336\n",
            "Loss value over epoch: 1.0969\n",
            "Validation acc: 0.3333\n",
            "\n",
            "\n",
            "Start of epoch  13\n",
            "Training acc over epoch: 0.3338\n",
            "Loss value over epoch: 1.0967\n",
            "Validation acc: 0.3333\n",
            "\n",
            "\n",
            "Start of epoch  14\n",
            "Training acc over epoch: 0.3338\n",
            "Loss value over epoch: 1.0966\n",
            "Validation acc: 0.3333\n",
            "\n",
            "\n",
            "Start of epoch  15\n",
            "Training acc over epoch: 0.3338\n",
            "Loss value over epoch: 1.0965\n",
            "Validation acc: 0.3333\n",
            "\n",
            "\n",
            "Start of epoch  16\n",
            "Training acc over epoch: 0.3338\n",
            "Loss value over epoch: 1.0964\n",
            "Validation acc: 0.3333\n",
            "\n",
            "\n",
            "Start of epoch  17\n",
            "Training acc over epoch: 0.3338\n",
            "Loss value over epoch: 1.0962\n",
            "Validation acc: 0.3333\n",
            "\n",
            "\n",
            "Start of epoch  18\n",
            "Training acc over epoch: 0.3338\n",
            "Loss value over epoch: 1.0961\n",
            "Validation acc: 0.3333\n",
            "\n",
            "\n",
            "Start of epoch  19\n",
            "Training acc over epoch: 0.3338\n",
            "Loss value over epoch: 1.0960\n",
            "Validation acc: 0.3333\n"
          ],
          "name": "stdout"
        }
      ]
    },
    {
      "cell_type": "code",
      "metadata": {
        "colab": {
          "base_uri": "https://localhost:8080/"
        },
        "id": "bgUg0Qn8krur",
        "outputId": "375f6f2f-bc85-483c-8a6d-ae6a401285f7"
      },
      "source": [
        "base_model.trainable = True\r\n",
        "model.summary()"
      ],
      "execution_count": null,
      "outputs": [
        {
          "output_type": "stream",
          "text": [
            "Model: \"model_3\"\n",
            "_________________________________________________________________\n",
            "Layer (type)                 Output Shape              Param #   \n",
            "=================================================================\n",
            "input_8 (InputLayer)         [(None, 256, 256, 3)]     0         \n",
            "_________________________________________________________________\n",
            "inception_v3 (Functional)    (None, 2048)              21802784  \n",
            "_________________________________________________________________\n",
            "dense_29 (Dense)             (None, 3)                 6147      \n",
            "=================================================================\n",
            "Total params: 21,808,931\n",
            "Trainable params: 21,774,499\n",
            "Non-trainable params: 34,432\n",
            "_________________________________________________________________\n"
          ],
          "name": "stdout"
        }
      ]
    },
    {
      "cell_type": "code",
      "metadata": {
        "colab": {
          "base_uri": "https://localhost:8080/"
        },
        "id": "v7qO8zTnkrx_",
        "outputId": "d09fa374-8e03-46d0-d92a-cf1445e6132d"
      },
      "source": [
        "training_loop(20, 32, training_generator, validation_generator)"
      ],
      "execution_count": null,
      "outputs": [
        {
          "output_type": "stream",
          "text": [
            "\n",
            "\n",
            "Start of epoch  0\n",
            "Training acc over epoch: 0.5995\n",
            "Loss value over epoch: 0.8463\n",
            "Validation acc: 0.8069\n",
            "\n",
            "\n",
            "Start of epoch  1\n",
            "Training acc over epoch: 0.8053\n",
            "Loss value over epoch: 0.5227\n",
            "Validation acc: 0.8562\n",
            "\n",
            "\n",
            "Start of epoch  2\n",
            "Training acc over epoch: 0.8495\n",
            "Loss value over epoch: 0.4180\n",
            "Validation acc: 0.8667\n",
            "\n",
            "\n",
            "Start of epoch  3\n",
            "Training acc over epoch: 0.8898\n",
            "Loss value over epoch: 0.3242\n",
            "Validation acc: 0.8993\n",
            "\n",
            "\n",
            "Start of epoch  4\n",
            "Training acc over epoch: 0.9123\n",
            "Loss value over epoch: 0.2618\n",
            "Validation acc: 0.9243\n",
            "\n",
            "\n",
            "Start of epoch  5\n",
            "Training acc over epoch: 0.9262\n",
            "Loss value over epoch: 0.2333\n",
            "Validation acc: 0.9236\n",
            "\n",
            "\n",
            "Start of epoch  6\n",
            "Training acc over epoch: 0.9292\n",
            "Loss value over epoch: 0.2115\n",
            "Validation acc: 0.9236\n",
            "\n",
            "\n",
            "Start of epoch  7\n",
            "Training acc over epoch: 0.9287\n",
            "Loss value over epoch: 0.2126\n",
            "Validation acc: 0.9229\n",
            "\n",
            "\n",
            "Start of epoch  8\n",
            "Training acc over epoch: 0.9384\n",
            "Loss value over epoch: 0.1842\n",
            "Validation acc: 0.9250\n",
            "\n",
            "\n",
            "Start of epoch  9\n",
            "Training acc over epoch: 0.9382\n",
            "Loss value over epoch: 0.1812\n",
            "Validation acc: 0.9375\n",
            "\n",
            "\n",
            "Start of epoch  10\n",
            "Training acc over epoch: 0.9491\n",
            "Loss value over epoch: 0.1503\n",
            "Validation acc: 0.9431\n",
            "\n",
            "\n",
            "Start of epoch  11\n",
            "Training acc over epoch: 0.9488\n",
            "Loss value over epoch: 0.1494\n",
            "Validation acc: 0.9292\n",
            "\n",
            "\n",
            "Start of epoch  12\n",
            "Training acc over epoch: 0.9549\n",
            "Loss value over epoch: 0.1402\n",
            "Validation acc: 0.9375\n",
            "\n",
            "\n",
            "Start of epoch  13\n",
            "Training acc over epoch: 0.9583\n",
            "Loss value over epoch: 0.1276\n",
            "Validation acc: 0.9458\n",
            "\n",
            "\n",
            "Start of epoch  14\n",
            "Training acc over epoch: 0.9653\n",
            "Loss value over epoch: 0.1113\n",
            "Validation acc: 0.9271\n",
            "\n",
            "\n",
            "Start of epoch  15\n",
            "Training acc over epoch: 0.9623\n",
            "Loss value over epoch: 0.1056\n",
            "Validation acc: 0.9431\n",
            "\n",
            "\n",
            "Start of epoch  16\n",
            "Training acc over epoch: 0.9681\n",
            "Loss value over epoch: 0.0950\n",
            "Validation acc: 0.9417\n",
            "\n",
            "\n",
            "Start of epoch  17\n",
            "Training acc over epoch: 0.9646\n",
            "Loss value over epoch: 0.1079\n",
            "Validation acc: 0.9299\n",
            "\n",
            "\n",
            "Start of epoch  18\n",
            "Training acc over epoch: 0.9678\n",
            "Loss value over epoch: 0.0932\n",
            "Validation acc: 0.9417\n",
            "\n",
            "\n",
            "Start of epoch  19\n",
            "Training acc over epoch: 0.9694\n",
            "Loss value over epoch: 0.0839\n",
            "Validation acc: 0.9424\n"
          ],
          "name": "stdout"
        }
      ]
    },
    {
      "cell_type": "code",
      "metadata": {
        "colab": {
          "base_uri": "https://localhost:8080/"
        },
        "id": "zK3Ir-Gxk5iG",
        "outputId": "cd79405e-7c45-4b2e-96a5-7f1c9641dbd9"
      },
      "source": [
        "test_model(test_generator, Y_test)"
      ],
      "execution_count": null,
      "outputs": [
        {
          "output_type": "stream",
          "text": [
            "confusion_matrix\n",
            "[[475   5   0]\n",
            " [  4 471   5]\n",
            " [ 17  43 420]]\n",
            "\n",
            "Accuracy: 0.95\n",
            "\n",
            "Weighted Precision: 0.95\n",
            "Weighted Recall: 0.95\n",
            "Weighted F1-score: 0.95\n",
            "\n",
            "Classification Report\n",
            "\n",
            "                 precision    recall  f1-score   support\n",
            "\n",
            "          Covid       0.96      0.99      0.97       480\n",
            "         Normal       0.91      0.98      0.94       480\n",
            "Viral Pneumonia       0.99      0.88      0.93       480\n",
            "\n",
            "       accuracy                           0.95      1440\n",
            "      macro avg       0.95      0.95      0.95      1440\n",
            "   weighted avg       0.95      0.95      0.95      1440\n",
            "\n"
          ],
          "name": "stdout"
        }
      ]
    },
    {
      "cell_type": "markdown",
      "metadata": {
        "id": "n70ZLDlkpRYS"
      },
      "source": [
        "**DenseNet**"
      ]
    },
    {
      "cell_type": "code",
      "metadata": {
        "id": "0bNFNxrxpV3I"
      },
      "source": [
        "base_model = tf.keras.applications.DenseNet121(\r\n",
        "                include_top=False,\r\n",
        "                weights=None,\r\n",
        "                input_tensor=None,\r\n",
        "                input_shape=(256,256,3),\r\n",
        "                pooling='avg',\r\n",
        "                classes=3,\r\n",
        "                )\r\n",
        "\r\n",
        "base_model.trainable = False\r\n",
        "inputs = keras.Input(shape=(256, 256,3))\r\n",
        "x = base_model(inputs, training=False)\r\n",
        "outputs = keras.layers.Dense(3 ,activation='softmax')(x)\r\n",
        "model = keras.Model(inputs, outputs)"
      ],
      "execution_count": null,
      "outputs": []
    },
    {
      "cell_type": "code",
      "metadata": {
        "colab": {
          "base_uri": "https://localhost:8080/"
        },
        "id": "bP-ItnXSpeQf",
        "outputId": "963683a8-e797-4012-dfcc-ea682a263995"
      },
      "source": [
        "model.summary()"
      ],
      "execution_count": null,
      "outputs": [
        {
          "output_type": "stream",
          "text": [
            "Model: \"model_4\"\n",
            "_________________________________________________________________\n",
            "Layer (type)                 Output Shape              Param #   \n",
            "=================================================================\n",
            "input_10 (InputLayer)        [(None, 256, 256, 3)]     0         \n",
            "_________________________________________________________________\n",
            "densenet121 (Functional)     (None, 1024)              7037504   \n",
            "_________________________________________________________________\n",
            "dense_30 (Dense)             (None, 3)                 3075      \n",
            "=================================================================\n",
            "Total params: 7,040,579\n",
            "Trainable params: 3,075\n",
            "Non-trainable params: 7,037,504\n",
            "_________________________________________________________________\n"
          ],
          "name": "stdout"
        }
      ]
    },
    {
      "cell_type": "code",
      "metadata": {
        "colab": {
          "base_uri": "https://localhost:8080/"
        },
        "id": "l7VELVDzpeVA",
        "outputId": "80a8db8f-48cb-4d76-99c2-2753511f4095"
      },
      "source": [
        "training_loop(20, 32, training_generator, validation_generator)"
      ],
      "execution_count": null,
      "outputs": [
        {
          "output_type": "stream",
          "text": [
            "\n",
            "\n",
            "Start of epoch  0\n",
            "Training acc over epoch: 0.3669\n",
            "Loss value over epoch: 1.0976\n",
            "Validation acc: 0.3938\n",
            "\n",
            "\n",
            "Start of epoch  1\n",
            "Training acc over epoch: 0.3516\n",
            "Loss value over epoch: 1.0957\n",
            "Validation acc: 0.3333\n",
            "\n",
            "\n",
            "Start of epoch  2\n",
            "Training acc over epoch: 0.3333\n",
            "Loss value over epoch: 1.0941\n",
            "Validation acc: 0.3333\n",
            "\n",
            "\n",
            "Start of epoch  3\n",
            "Training acc over epoch: 0.3333\n",
            "Loss value over epoch: 1.0927\n",
            "Validation acc: 0.3333\n",
            "\n",
            "\n",
            "Start of epoch  4\n",
            "Training acc over epoch: 0.3333\n",
            "Loss value over epoch: 1.0913\n",
            "Validation acc: 0.3340\n",
            "\n",
            "\n",
            "Start of epoch  5\n",
            "Training acc over epoch: 0.3333\n",
            "Loss value over epoch: 1.0900\n",
            "Validation acc: 0.3340\n",
            "\n",
            "\n",
            "Start of epoch  6\n",
            "Training acc over epoch: 0.3336\n",
            "Loss value over epoch: 1.0887\n",
            "Validation acc: 0.3354\n",
            "\n",
            "\n",
            "Start of epoch  7\n",
            "Training acc over epoch: 0.3356\n",
            "Loss value over epoch: 1.0874\n",
            "Validation acc: 0.3382\n",
            "\n",
            "\n",
            "Start of epoch  8\n",
            "Training acc over epoch: 0.3396\n",
            "Loss value over epoch: 1.0861\n",
            "Validation acc: 0.3424\n",
            "\n",
            "\n",
            "Start of epoch  9\n",
            "Training acc over epoch: 0.3530\n",
            "Loss value over epoch: 1.0848\n",
            "Validation acc: 0.3521\n",
            "\n",
            "\n",
            "Start of epoch  10\n",
            "Training acc over epoch: 0.3655\n",
            "Loss value over epoch: 1.0835\n",
            "Validation acc: 0.3667\n",
            "\n",
            "\n",
            "Start of epoch  11\n",
            "Training acc over epoch: 0.3796\n",
            "Loss value over epoch: 1.0822\n",
            "Validation acc: 0.3812\n",
            "\n",
            "\n",
            "Start of epoch  12\n",
            "Training acc over epoch: 0.3914\n",
            "Loss value over epoch: 1.0810\n",
            "Validation acc: 0.3958\n",
            "\n",
            "\n",
            "Start of epoch  13\n",
            "Training acc over epoch: 0.4067\n",
            "Loss value over epoch: 1.0797\n",
            "Validation acc: 0.4076\n",
            "\n",
            "\n",
            "Start of epoch  14\n",
            "Training acc over epoch: 0.4187\n",
            "Loss value over epoch: 1.0785\n",
            "Validation acc: 0.4222\n",
            "\n",
            "\n",
            "Start of epoch  15\n",
            "Training acc over epoch: 0.4315\n",
            "Loss value over epoch: 1.0773\n",
            "Validation acc: 0.4319\n",
            "\n",
            "\n",
            "Start of epoch  16\n",
            "Training acc over epoch: 0.4437\n",
            "Loss value over epoch: 1.0761\n",
            "Validation acc: 0.4410\n",
            "\n",
            "\n",
            "Start of epoch  17\n",
            "Training acc over epoch: 0.4565\n",
            "Loss value over epoch: 1.0749\n",
            "Validation acc: 0.4549\n",
            "\n",
            "\n",
            "Start of epoch  18\n",
            "Training acc over epoch: 0.4646\n",
            "Loss value over epoch: 1.0737\n",
            "Validation acc: 0.4646\n",
            "\n",
            "\n",
            "Start of epoch  19\n",
            "Training acc over epoch: 0.4748\n",
            "Loss value over epoch: 1.0725\n",
            "Validation acc: 0.4694\n"
          ],
          "name": "stdout"
        }
      ]
    },
    {
      "cell_type": "code",
      "metadata": {
        "colab": {
          "base_uri": "https://localhost:8080/"
        },
        "id": "sW_wzDFCpea8",
        "outputId": "360dd7a8-0e93-4173-9730-752efc76f4f5"
      },
      "source": [
        "base_model.trainable = True\r\n",
        "model.summary()"
      ],
      "execution_count": null,
      "outputs": [
        {
          "output_type": "stream",
          "text": [
            "Model: \"model_4\"\n",
            "_________________________________________________________________\n",
            "Layer (type)                 Output Shape              Param #   \n",
            "=================================================================\n",
            "input_10 (InputLayer)        [(None, 256, 256, 3)]     0         \n",
            "_________________________________________________________________\n",
            "densenet121 (Functional)     (None, 1024)              7037504   \n",
            "_________________________________________________________________\n",
            "dense_30 (Dense)             (None, 3)                 3075      \n",
            "=================================================================\n",
            "Total params: 7,040,579\n",
            "Trainable params: 6,956,931\n",
            "Non-trainable params: 83,648\n",
            "_________________________________________________________________\n"
          ],
          "name": "stdout"
        }
      ]
    },
    {
      "cell_type": "code",
      "metadata": {
        "colab": {
          "base_uri": "https://localhost:8080/"
        },
        "id": "OwAveHBSpetr",
        "outputId": "fbe31b56-f3b7-4090-db32-5e5dda59f9ae"
      },
      "source": [
        "training_loop(20, 32, training_generator, validation_generator)"
      ],
      "execution_count": null,
      "outputs": [
        {
          "output_type": "stream",
          "text": [
            "\n",
            "\n",
            "Start of epoch  0\n",
            "Training acc over epoch: 0.6738\n",
            "Loss value over epoch: 0.7262\n",
            "Validation acc: 0.8424\n",
            "\n",
            "\n",
            "Start of epoch  1\n",
            "Training acc over epoch: 0.8375\n",
            "Loss value over epoch: 0.4443\n",
            "Validation acc: 0.8785\n",
            "\n",
            "\n",
            "Start of epoch  2\n",
            "Training acc over epoch: 0.8722\n",
            "Loss value over epoch: 0.3679\n",
            "Validation acc: 0.8875\n",
            "\n",
            "\n",
            "Start of epoch  3\n",
            "Training acc over epoch: 0.8928\n",
            "Loss value over epoch: 0.3147\n",
            "Validation acc: 0.9208\n",
            "\n",
            "\n",
            "Start of epoch  4\n",
            "Training acc over epoch: 0.9067\n",
            "Loss value over epoch: 0.2699\n",
            "Validation acc: 0.9299\n",
            "\n",
            "\n",
            "Start of epoch  5\n",
            "Training acc over epoch: 0.9118\n",
            "Loss value over epoch: 0.2531\n",
            "Validation acc: 0.9312\n",
            "\n",
            "\n",
            "Start of epoch  6\n",
            "Training acc over epoch: 0.9174\n",
            "Loss value over epoch: 0.2432\n",
            "Validation acc: 0.9187\n",
            "\n",
            "\n",
            "Start of epoch  7\n",
            "Training acc over epoch: 0.9278\n",
            "Loss value over epoch: 0.2142\n",
            "Validation acc: 0.9292\n",
            "\n",
            "\n",
            "Start of epoch  8\n",
            "Training acc over epoch: 0.9326\n",
            "Loss value over epoch: 0.1948\n",
            "Validation acc: 0.9306\n",
            "\n",
            "\n",
            "Start of epoch  9\n",
            "Training acc over epoch: 0.9329\n",
            "Loss value over epoch: 0.1860\n",
            "Validation acc: 0.9333\n",
            "\n",
            "\n",
            "Start of epoch  10\n",
            "Training acc over epoch: 0.9440\n",
            "Loss value over epoch: 0.1617\n",
            "Validation acc: 0.9333\n",
            "\n",
            "\n",
            "Start of epoch  11\n",
            "Training acc over epoch: 0.9525\n",
            "Loss value over epoch: 0.1453\n",
            "Validation acc: 0.9326\n",
            "\n",
            "\n",
            "Start of epoch  12\n",
            "Training acc over epoch: 0.9505\n",
            "Loss value over epoch: 0.1458\n",
            "Validation acc: 0.9382\n",
            "\n",
            "\n",
            "Start of epoch  13\n",
            "Training acc over epoch: 0.9556\n",
            "Loss value over epoch: 0.1327\n",
            "Validation acc: 0.9347\n",
            "\n",
            "\n",
            "Start of epoch  14\n",
            "Training acc over epoch: 0.9556\n",
            "Loss value over epoch: 0.1297\n",
            "Validation acc: 0.9333\n",
            "\n",
            "\n",
            "Start of epoch  15\n",
            "Training acc over epoch: 0.9519\n",
            "Loss value over epoch: 0.1394\n",
            "Validation acc: 0.9368\n",
            "\n",
            "\n",
            "Start of epoch  16\n",
            "Training acc over epoch: 0.9558\n",
            "Loss value over epoch: 0.1217\n",
            "Validation acc: 0.9340\n",
            "\n",
            "\n",
            "Start of epoch  17\n",
            "Training acc over epoch: 0.9646\n",
            "Loss value over epoch: 0.1024\n",
            "Validation acc: 0.9340\n",
            "\n",
            "\n",
            "Start of epoch  18\n",
            "Training acc over epoch: 0.9683\n",
            "Loss value over epoch: 0.0941\n",
            "Validation acc: 0.9438\n",
            "\n",
            "\n",
            "Start of epoch  19\n",
            "Training acc over epoch: 0.9662\n",
            "Loss value over epoch: 0.0971\n",
            "Validation acc: 0.9542\n"
          ],
          "name": "stdout"
        }
      ]
    },
    {
      "cell_type": "code",
      "metadata": {
        "colab": {
          "base_uri": "https://localhost:8080/"
        },
        "id": "HyRkTeHApolG",
        "outputId": "a6a15b59-ec3f-4dc7-dd49-b9db28c20c53"
      },
      "source": [
        "test_model(test_generator, Y_test)"
      ],
      "execution_count": null,
      "outputs": [
        {
          "output_type": "stream",
          "text": [
            "confusion_matrix\n",
            "[[470   5   5]\n",
            " [  2 449  29]\n",
            " [ 12  16 452]]\n",
            "\n",
            "Accuracy: 0.95\n",
            "\n",
            "Weighted Precision: 0.95\n",
            "Weighted Recall: 0.95\n",
            "Weighted F1-score: 0.95\n",
            "\n",
            "Classification Report\n",
            "\n",
            "                 precision    recall  f1-score   support\n",
            "\n",
            "          Covid       0.97      0.98      0.98       480\n",
            "         Normal       0.96      0.94      0.95       480\n",
            "Viral Pneumonia       0.93      0.94      0.94       480\n",
            "\n",
            "       accuracy                           0.95      1440\n",
            "      macro avg       0.95      0.95      0.95      1440\n",
            "   weighted avg       0.95      0.95      0.95      1440\n",
            "\n"
          ],
          "name": "stdout"
        }
      ]
    },
    {
      "cell_type": "markdown",
      "metadata": {
        "id": "zk72Z8dO3451"
      },
      "source": [
        "**Pretrained Models Using pretrained Weights**"
      ]
    },
    {
      "cell_type": "markdown",
      "metadata": {
        "id": "QVn7TXg44DCy"
      },
      "source": [
        "**ResNet50**"
      ]
    },
    {
      "cell_type": "code",
      "metadata": {
        "id": "uKrVQyXl_n5v"
      },
      "source": [
        "base_model =tf.keras.applications.ResNet50(\r\n",
        "                include_top=False,\r\n",
        "                weights=\"imagenet\",\r\n",
        "                input_tensor=None,\r\n",
        "                input_shape=(256,256,3),\r\n",
        "                pooling='avg',\r\n",
        "                classes=3,\r\n",
        "                classifier_activation=\"softmax\",\r\n",
        "    \r\n",
        "                )\r\n",
        "base_model.trainable = False\r\n",
        "inputs = keras.Input(shape=(256, 256,3))\r\n",
        "x = base_model(inputs, training=False)\r\n",
        "outputs = keras.layers.Dense(3 ,activation='softmax')(x)\r\n",
        "model = keras.Model(inputs, outputs)"
      ],
      "execution_count": null,
      "outputs": []
    },
    {
      "cell_type": "code",
      "metadata": {
        "colab": {
          "base_uri": "https://localhost:8080/"
        },
        "id": "lSHMaN9UBlHq",
        "outputId": "2dfccfa7-342e-4cb8-dbd4-771feaee2c67"
      },
      "source": [
        "model.summary()"
      ],
      "execution_count": null,
      "outputs": [
        {
          "output_type": "stream",
          "text": [
            "Model: \"model_6\"\n",
            "_________________________________________________________________\n",
            "Layer (type)                 Output Shape              Param #   \n",
            "=================================================================\n",
            "input_14 (InputLayer)        [(None, 256, 256, 3)]     0         \n",
            "_________________________________________________________________\n",
            "resnet50 (Functional)        (None, 2048)              23587712  \n",
            "_________________________________________________________________\n",
            "dense_32 (Dense)             (None, 3)                 6147      \n",
            "=================================================================\n",
            "Total params: 23,593,859\n",
            "Trainable params: 6,147\n",
            "Non-trainable params: 23,587,712\n",
            "_________________________________________________________________\n"
          ],
          "name": "stdout"
        }
      ]
    },
    {
      "cell_type": "code",
      "metadata": {
        "colab": {
          "base_uri": "https://localhost:8080/"
        },
        "id": "Hk-0HbQbBqXG",
        "outputId": "6050a965-a38e-40bd-926e-d9e5ee1f54a2"
      },
      "source": [
        "training_loop(20, 32, training_generator, validation_generator)"
      ],
      "execution_count": null,
      "outputs": [
        {
          "output_type": "stream",
          "text": [
            "\n",
            "\n",
            "Start of epoch  0\n",
            "Training acc over epoch: 0.4255\n",
            "Loss value over epoch: 1.0987\n",
            "Validation acc: 0.6528\n",
            "\n",
            "\n",
            "Start of epoch  1\n",
            "Training acc over epoch: 0.6634\n",
            "Loss value over epoch: 0.9993\n",
            "Validation acc: 0.6993\n",
            "\n",
            "\n",
            "Start of epoch  2\n",
            "Training acc over epoch: 0.7009\n",
            "Loss value over epoch: 0.9321\n",
            "Validation acc: 0.7215\n",
            "\n",
            "\n",
            "Start of epoch  3\n",
            "Training acc over epoch: 0.7204\n",
            "Loss value over epoch: 0.8798\n",
            "Validation acc: 0.7340\n",
            "\n",
            "\n",
            "Start of epoch  4\n",
            "Training acc over epoch: 0.7326\n",
            "Loss value over epoch: 0.8386\n",
            "Validation acc: 0.7354\n",
            "\n",
            "\n",
            "Start of epoch  5\n",
            "Training acc over epoch: 0.7417\n",
            "Loss value over epoch: 0.8055\n",
            "Validation acc: 0.7403\n",
            "\n",
            "\n",
            "Start of epoch  6\n",
            "Training acc over epoch: 0.7461\n",
            "Loss value over epoch: 0.7786\n",
            "Validation acc: 0.7431\n",
            "\n",
            "\n",
            "Start of epoch  7\n",
            "Training acc over epoch: 0.7507\n",
            "Loss value over epoch: 0.7562\n",
            "Validation acc: 0.7493\n",
            "\n",
            "\n",
            "Start of epoch  8\n",
            "Training acc over epoch: 0.7532\n",
            "Loss value over epoch: 0.7373\n",
            "Validation acc: 0.7569\n",
            "\n",
            "\n",
            "Start of epoch  9\n",
            "Training acc over epoch: 0.7542\n",
            "Loss value over epoch: 0.7211\n",
            "Validation acc: 0.7583\n",
            "\n",
            "\n",
            "Start of epoch  10\n",
            "Training acc over epoch: 0.7572\n",
            "Loss value over epoch: 0.7071\n",
            "Validation acc: 0.7625\n",
            "\n",
            "\n",
            "Start of epoch  11\n",
            "Training acc over epoch: 0.7593\n",
            "Loss value over epoch: 0.6948\n",
            "Validation acc: 0.7653\n",
            "\n",
            "\n",
            "Start of epoch  12\n",
            "Training acc over epoch: 0.7634\n",
            "Loss value over epoch: 0.6839\n",
            "Validation acc: 0.7674\n",
            "\n",
            "\n",
            "Start of epoch  13\n",
            "Training acc over epoch: 0.7650\n",
            "Loss value over epoch: 0.6741\n",
            "Validation acc: 0.7715\n",
            "\n",
            "\n",
            "Start of epoch  14\n",
            "Training acc over epoch: 0.7678\n",
            "Loss value over epoch: 0.6652\n",
            "Validation acc: 0.7708\n",
            "\n",
            "\n",
            "Start of epoch  15\n",
            "Training acc over epoch: 0.7697\n",
            "Loss value over epoch: 0.6572\n",
            "Validation acc: 0.7729\n",
            "\n",
            "\n",
            "Start of epoch  16\n",
            "Training acc over epoch: 0.7697\n",
            "Loss value over epoch: 0.6498\n",
            "Validation acc: 0.7743\n",
            "\n",
            "\n",
            "Start of epoch  17\n",
            "Training acc over epoch: 0.7711\n",
            "Loss value over epoch: 0.6430\n",
            "Validation acc: 0.7757\n",
            "\n",
            "\n",
            "Start of epoch  18\n",
            "Training acc over epoch: 0.7725\n",
            "Loss value over epoch: 0.6366\n",
            "Validation acc: 0.7757\n",
            "\n",
            "\n",
            "Start of epoch  19\n",
            "Training acc over epoch: 0.7741\n",
            "Loss value over epoch: 0.6307\n",
            "Validation acc: 0.7764\n"
          ],
          "name": "stdout"
        }
      ]
    },
    {
      "cell_type": "code",
      "metadata": {
        "id": "UEDxcKySBrF4",
        "colab": {
          "base_uri": "https://localhost:8080/"
        },
        "outputId": "4442af72-9e60-4e39-e3ec-93b21026ec96"
      },
      "source": [
        "base_model.trainable = True\r\n",
        "model.summary()"
      ],
      "execution_count": null,
      "outputs": [
        {
          "output_type": "stream",
          "text": [
            "Model: \"model_6\"\n",
            "_________________________________________________________________\n",
            "Layer (type)                 Output Shape              Param #   \n",
            "=================================================================\n",
            "input_14 (InputLayer)        [(None, 256, 256, 3)]     0         \n",
            "_________________________________________________________________\n",
            "resnet50 (Functional)        (None, 2048)              23587712  \n",
            "_________________________________________________________________\n",
            "dense_32 (Dense)             (None, 3)                 6147      \n",
            "=================================================================\n",
            "Total params: 23,593,859\n",
            "Trainable params: 23,540,739\n",
            "Non-trainable params: 53,120\n",
            "_________________________________________________________________\n"
          ],
          "name": "stdout"
        }
      ]
    },
    {
      "cell_type": "code",
      "metadata": {
        "id": "bfnsDwIyBvmB",
        "colab": {
          "base_uri": "https://localhost:8080/"
        },
        "outputId": "1166d5c2-bb4c-4b32-ddf3-7577b3a1b68e"
      },
      "source": [
        "training_loop(20,32,training_generator,validation_generator)"
      ],
      "execution_count": null,
      "outputs": [
        {
          "output_type": "stream",
          "text": [
            "\n",
            "\n",
            "Start of epoch  0\n",
            "Training acc over epoch: 0.3303\n",
            "Loss value over epoch: 1.2439\n",
            "Validation acc: 0.3333\n",
            "\n",
            "\n",
            "Start of epoch  1\n",
            "Training acc over epoch: 0.3289\n",
            "Loss value over epoch: 1.1010\n",
            "Validation acc: 0.3333\n",
            "\n",
            "\n",
            "Start of epoch  2\n",
            "Training acc over epoch: 0.5102\n",
            "Loss value over epoch: 0.9379\n",
            "Validation acc: 0.7208\n",
            "\n",
            "\n",
            "Start of epoch  3\n",
            "Training acc over epoch: 0.8111\n",
            "Loss value over epoch: 0.4587\n",
            "Validation acc: 0.8229\n",
            "\n",
            "\n",
            "Start of epoch  4\n",
            "Training acc over epoch: 0.8875\n",
            "Loss value over epoch: 0.2924\n",
            "Validation acc: 0.8944\n",
            "\n",
            "\n",
            "Start of epoch  5\n",
            "Training acc over epoch: 0.9141\n",
            "Loss value over epoch: 0.2279\n",
            "Validation acc: 0.9208\n",
            "\n",
            "\n",
            "Start of epoch  6\n",
            "Training acc over epoch: 0.9340\n",
            "Loss value over epoch: 0.1793\n",
            "Validation acc: 0.9292\n",
            "\n",
            "\n",
            "Start of epoch  7\n",
            "Training acc over epoch: 0.9370\n",
            "Loss value over epoch: 0.1678\n",
            "Validation acc: 0.9160\n",
            "\n",
            "\n",
            "Start of epoch  8\n",
            "Training acc over epoch: 0.9512\n",
            "Loss value over epoch: 0.1376\n",
            "Validation acc: 0.9236\n",
            "\n",
            "\n",
            "Start of epoch  9\n",
            "Training acc over epoch: 0.9611\n",
            "Loss value over epoch: 0.1024\n",
            "Validation acc: 0.9056\n",
            "\n",
            "\n",
            "Start of epoch  10\n",
            "Training acc over epoch: 0.9632\n",
            "Loss value over epoch: 0.0902\n",
            "Validation acc: 0.9354\n",
            "\n",
            "\n",
            "Start of epoch  11\n",
            "Training acc over epoch: 0.9694\n",
            "Loss value over epoch: 0.0803\n",
            "Validation acc: 0.9424\n",
            "\n",
            "\n",
            "Start of epoch  12\n",
            "Training acc over epoch: 0.9769\n",
            "Loss value over epoch: 0.0683\n",
            "Validation acc: 0.9229\n",
            "\n",
            "\n",
            "Start of epoch  13\n",
            "Training acc over epoch: 0.9782\n",
            "Loss value over epoch: 0.0557\n",
            "Validation acc: 0.8889\n",
            "\n",
            "\n",
            "Start of epoch  14\n",
            "Training acc over epoch: 0.9762\n",
            "Loss value over epoch: 0.0694\n",
            "Validation acc: 0.9236\n",
            "\n",
            "\n",
            "Start of epoch  15\n",
            "Training acc over epoch: 0.9780\n",
            "Loss value over epoch: 0.0597\n",
            "Validation acc: 0.9403\n",
            "\n",
            "\n",
            "Start of epoch  16\n",
            "Training acc over epoch: 0.9771\n",
            "Loss value over epoch: 0.0632\n",
            "Validation acc: 0.9361\n",
            "\n",
            "\n",
            "Start of epoch  17\n",
            "Training acc over epoch: 0.9831\n",
            "Loss value over epoch: 0.0422\n",
            "Validation acc: 0.9042\n",
            "\n",
            "\n",
            "Start of epoch  18\n",
            "Training acc over epoch: 0.9919\n",
            "Loss value over epoch: 0.0244\n",
            "Validation acc: 0.9389\n",
            "\n",
            "\n",
            "Start of epoch  19\n",
            "Training acc over epoch: 0.9882\n",
            "Loss value over epoch: 0.0368\n",
            "Validation acc: 0.9181\n"
          ],
          "name": "stdout"
        }
      ]
    },
    {
      "cell_type": "code",
      "metadata": {
        "colab": {
          "base_uri": "https://localhost:8080/"
        },
        "id": "N3V7S1VnPJ1c",
        "outputId": "f3adfc4d-defc-4b81-8451-7f0a162bc7ac"
      },
      "source": [
        "test_model(test_generator, Y_test)"
      ],
      "execution_count": null,
      "outputs": [
        {
          "output_type": "stream",
          "text": [
            "confusion_matrix\n",
            "[[466  13   1]\n",
            " [  5 463  12]\n",
            " [ 33  47 400]]\n",
            "\n",
            "Accuracy: 0.92\n",
            "\n",
            "Weighted Precision: 0.93\n",
            "Weighted Recall: 0.92\n",
            "Weighted F1-score: 0.92\n",
            "\n",
            "Classification Report\n",
            "\n",
            "                 precision    recall  f1-score   support\n",
            "\n",
            "          Covid       0.92      0.97      0.95       480\n",
            "         Normal       0.89      0.96      0.92       480\n",
            "Viral Pneumonia       0.97      0.83      0.90       480\n",
            "\n",
            "       accuracy                           0.92      1440\n",
            "      macro avg       0.93      0.92      0.92      1440\n",
            "   weighted avg       0.93      0.92      0.92      1440\n",
            "\n"
          ],
          "name": "stdout"
        }
      ]
    },
    {
      "cell_type": "markdown",
      "metadata": {
        "id": "iQIaFTkQ4FBq"
      },
      "source": [
        "**InceptionV3**"
      ]
    },
    {
      "cell_type": "code",
      "metadata": {
        "id": "AQ9476___o2g"
      },
      "source": [
        "base_model =tf.keras.applications.InceptionV3(\r\n",
        "                include_top=False,\r\n",
        "                weights=\"imagenet\",\r\n",
        "                input_tensor=None,\r\n",
        "                input_shape=(256,256,3),\r\n",
        "                pooling='avg',\r\n",
        "                classes=3,\r\n",
        "                classifier_activation=\"softmax\",\r\n",
        "               )\r\n",
        "\r\n",
        "    \r\n",
        "base_model.trainable = False\r\n",
        "inputs = keras.Input(shape=(256, 256,3))\r\n",
        "x = base_model(inputs, training=False)\r\n",
        "outputs = keras.layers.Dense(3 ,activation='softmax')(x)\r\n",
        "model = keras.Model(inputs, outputs)"
      ],
      "execution_count": null,
      "outputs": []
    },
    {
      "cell_type": "code",
      "metadata": {
        "id": "gTrzmQLdBxLF",
        "colab": {
          "base_uri": "https://localhost:8080/"
        },
        "outputId": "fb9b95e3-edfc-4972-d663-ef20c7fd459b"
      },
      "source": [
        "model.summary()"
      ],
      "execution_count": null,
      "outputs": [
        {
          "output_type": "stream",
          "text": [
            "Model: \"model_7\"\n",
            "_________________________________________________________________\n",
            "Layer (type)                 Output Shape              Param #   \n",
            "=================================================================\n",
            "input_16 (InputLayer)        [(None, 256, 256, 3)]     0         \n",
            "_________________________________________________________________\n",
            "inception_v3 (Functional)    (None, 2048)              21802784  \n",
            "_________________________________________________________________\n",
            "dense_33 (Dense)             (None, 3)                 6147      \n",
            "=================================================================\n",
            "Total params: 21,808,931\n",
            "Trainable params: 6,147\n",
            "Non-trainable params: 21,802,784\n",
            "_________________________________________________________________\n"
          ],
          "name": "stdout"
        }
      ]
    },
    {
      "cell_type": "code",
      "metadata": {
        "id": "Z8p1Qx1uBxYj",
        "colab": {
          "base_uri": "https://localhost:8080/"
        },
        "outputId": "e3658972-f6f6-4836-8c38-8ded729714e9"
      },
      "source": [
        "training_loop(20, 32, training_generator, validation_generator)"
      ],
      "execution_count": null,
      "outputs": [
        {
          "output_type": "stream",
          "text": [
            "\n",
            "\n",
            "Start of epoch  0\n",
            "Training acc over epoch: 0.5979\n",
            "Loss value over epoch: 0.8740\n",
            "Validation acc: 0.7854\n",
            "\n",
            "\n",
            "Start of epoch  1\n",
            "Training acc over epoch: 0.8197\n",
            "Loss value over epoch: 0.5370\n",
            "Validation acc: 0.8514\n",
            "\n",
            "\n",
            "Start of epoch  2\n",
            "Training acc over epoch: 0.8738\n",
            "Loss value over epoch: 0.4284\n",
            "Validation acc: 0.8813\n",
            "\n",
            "\n",
            "Start of epoch  3\n",
            "Training acc over epoch: 0.8907\n",
            "Loss value over epoch: 0.3711\n",
            "Validation acc: 0.8875\n",
            "\n",
            "\n",
            "Start of epoch  4\n",
            "Training acc over epoch: 0.9019\n",
            "Loss value over epoch: 0.3346\n",
            "Validation acc: 0.8958\n",
            "\n",
            "\n",
            "Start of epoch  5\n",
            "Training acc over epoch: 0.9095\n",
            "Loss value over epoch: 0.3086\n",
            "Validation acc: 0.9035\n",
            "\n",
            "\n",
            "Start of epoch  6\n",
            "Training acc over epoch: 0.9141\n",
            "Loss value over epoch: 0.2888\n",
            "Validation acc: 0.9062\n",
            "\n",
            "\n",
            "Start of epoch  7\n",
            "Training acc over epoch: 0.9183\n",
            "Loss value over epoch: 0.2728\n",
            "Validation acc: 0.9097\n",
            "\n",
            "\n",
            "Start of epoch  8\n",
            "Training acc over epoch: 0.9234\n",
            "Loss value over epoch: 0.2594\n",
            "Validation acc: 0.9125\n",
            "\n",
            "\n",
            "Start of epoch  9\n",
            "Training acc over epoch: 0.9257\n",
            "Loss value over epoch: 0.2480\n",
            "Validation acc: 0.9132\n",
            "\n",
            "\n",
            "Start of epoch  10\n",
            "Training acc over epoch: 0.9287\n",
            "Loss value over epoch: 0.2381\n",
            "Validation acc: 0.9146\n",
            "\n",
            "\n",
            "Start of epoch  11\n",
            "Training acc over epoch: 0.9312\n",
            "Loss value over epoch: 0.2292\n",
            "Validation acc: 0.9174\n",
            "\n",
            "\n",
            "Start of epoch  12\n",
            "Training acc over epoch: 0.9338\n",
            "Loss value over epoch: 0.2213\n",
            "Validation acc: 0.9201\n",
            "\n",
            "\n",
            "Start of epoch  13\n",
            "Training acc over epoch: 0.9359\n",
            "Loss value over epoch: 0.2142\n",
            "Validation acc: 0.9229\n",
            "\n",
            "\n",
            "Start of epoch  14\n",
            "Training acc over epoch: 0.9382\n",
            "Loss value over epoch: 0.2077\n",
            "Validation acc: 0.9229\n",
            "\n",
            "\n",
            "Start of epoch  15\n",
            "Training acc over epoch: 0.9396\n",
            "Loss value over epoch: 0.2017\n",
            "Validation acc: 0.9243\n",
            "\n",
            "\n",
            "Start of epoch  16\n",
            "Training acc over epoch: 0.9400\n",
            "Loss value over epoch: 0.1962\n",
            "Validation acc: 0.9264\n",
            "\n",
            "\n",
            "Start of epoch  17\n",
            "Training acc over epoch: 0.9414\n",
            "Loss value over epoch: 0.1911\n",
            "Validation acc: 0.9278\n",
            "\n",
            "\n",
            "Start of epoch  18\n",
            "Training acc over epoch: 0.9431\n",
            "Loss value over epoch: 0.1863\n",
            "Validation acc: 0.9299\n",
            "\n",
            "\n",
            "Start of epoch  19\n",
            "Training acc over epoch: 0.9458\n",
            "Loss value over epoch: 0.1819\n",
            "Validation acc: 0.9285\n"
          ],
          "name": "stdout"
        }
      ]
    },
    {
      "cell_type": "code",
      "metadata": {
        "id": "1mi5EdsFBxg8",
        "colab": {
          "base_uri": "https://localhost:8080/"
        },
        "outputId": "1aa24143-1d78-4178-9548-2fedb0b99020"
      },
      "source": [
        "base_model.trainable = True\r\n",
        "model.summary()"
      ],
      "execution_count": null,
      "outputs": [
        {
          "output_type": "stream",
          "text": [
            "Model: \"model_7\"\n",
            "_________________________________________________________________\n",
            "Layer (type)                 Output Shape              Param #   \n",
            "=================================================================\n",
            "input_16 (InputLayer)        [(None, 256, 256, 3)]     0         \n",
            "_________________________________________________________________\n",
            "inception_v3 (Functional)    (None, 2048)              21802784  \n",
            "_________________________________________________________________\n",
            "dense_33 (Dense)             (None, 3)                 6147      \n",
            "=================================================================\n",
            "Total params: 21,808,931\n",
            "Trainable params: 21,774,499\n",
            "Non-trainable params: 34,432\n",
            "_________________________________________________________________\n"
          ],
          "name": "stdout"
        }
      ]
    },
    {
      "cell_type": "code",
      "metadata": {
        "id": "EMjlhKGzBxoU",
        "colab": {
          "base_uri": "https://localhost:8080/"
        },
        "outputId": "7c77d375-a518-43ec-ed90-b7cfcc477fa8"
      },
      "source": [
        "training_loop(20, 32, training_generator, validation_generator)"
      ],
      "execution_count": null,
      "outputs": [
        {
          "output_type": "stream",
          "text": [
            "\n",
            "\n",
            "Start of epoch  0\n",
            "Training acc over epoch: 0.9051\n",
            "Loss value over epoch: 0.2628\n",
            "Validation acc: 0.9681\n",
            "\n",
            "\n",
            "Start of epoch  1\n",
            "Training acc over epoch: 0.9618\n",
            "Loss value over epoch: 0.1110\n",
            "Validation acc: 0.9514\n",
            "\n",
            "\n",
            "Start of epoch  2\n",
            "Training acc over epoch: 0.9799\n",
            "Loss value over epoch: 0.0598\n",
            "Validation acc: 0.9396\n",
            "\n",
            "\n",
            "Start of epoch  3\n",
            "Training acc over epoch: 0.9838\n",
            "Loss value over epoch: 0.0486\n",
            "Validation acc: 0.9625\n",
            "\n",
            "\n",
            "Start of epoch  4\n",
            "Training acc over epoch: 0.9794\n",
            "Loss value over epoch: 0.0630\n",
            "Validation acc: 0.9722\n",
            "\n",
            "\n",
            "Start of epoch  5\n",
            "Training acc over epoch: 0.9861\n",
            "Loss value over epoch: 0.0442\n",
            "Validation acc: 0.9229\n",
            "\n",
            "\n",
            "Start of epoch  6\n",
            "Training acc over epoch: 0.9863\n",
            "Loss value over epoch: 0.0376\n",
            "Validation acc: 0.9306\n",
            "\n",
            "\n",
            "Start of epoch  7\n",
            "Training acc over epoch: 0.9894\n",
            "Loss value over epoch: 0.0287\n",
            "Validation acc: 0.9785\n",
            "\n",
            "\n",
            "Start of epoch  8\n",
            "Training acc over epoch: 0.9947\n",
            "Loss value over epoch: 0.0161\n",
            "Validation acc: 0.9799\n",
            "\n",
            "\n",
            "Start of epoch  9\n",
            "Training acc over epoch: 0.9905\n",
            "Loss value over epoch: 0.0277\n",
            "Validation acc: 0.9806\n",
            "\n",
            "\n",
            "Start of epoch  10\n",
            "Training acc over epoch: 0.9889\n",
            "Loss value over epoch: 0.0369\n",
            "Validation acc: 0.9722\n",
            "\n",
            "\n",
            "Start of epoch  11\n",
            "Training acc over epoch: 0.9907\n",
            "Loss value over epoch: 0.0269\n",
            "Validation acc: 0.9729\n",
            "\n",
            "\n",
            "Start of epoch  12\n",
            "Training acc over epoch: 0.9940\n",
            "Loss value over epoch: 0.0174\n",
            "Validation acc: 0.9757\n",
            "\n",
            "\n",
            "Start of epoch  13\n",
            "Training acc over epoch: 0.9977\n",
            "Loss value over epoch: 0.0059\n",
            "Validation acc: 0.9778\n",
            "\n",
            "\n",
            "Start of epoch  14\n",
            "Training acc over epoch: 0.9975\n",
            "Loss value over epoch: 0.0061\n",
            "Validation acc: 0.9812\n",
            "\n",
            "\n",
            "Start of epoch  15\n",
            "Training acc over epoch: 0.9975\n",
            "Loss value over epoch: 0.0074\n",
            "Validation acc: 0.9799\n",
            "\n",
            "\n",
            "Start of epoch  16\n",
            "Training acc over epoch: 0.9963\n",
            "Loss value over epoch: 0.0101\n",
            "Validation acc: 0.9792\n",
            "\n",
            "\n",
            "Start of epoch  17\n",
            "Training acc over epoch: 0.9926\n",
            "Loss value over epoch: 0.0229\n",
            "Validation acc: 0.9694\n",
            "\n",
            "\n",
            "Start of epoch  18\n",
            "Training acc over epoch: 0.9981\n",
            "Loss value over epoch: 0.0053\n",
            "Validation acc: 0.9722\n",
            "\n",
            "\n",
            "Start of epoch  19\n",
            "Training acc over epoch: 0.9907\n",
            "Loss value over epoch: 0.0305\n",
            "Validation acc: 0.9833\n"
          ],
          "name": "stdout"
        }
      ]
    },
    {
      "cell_type": "code",
      "metadata": {
        "colab": {
          "base_uri": "https://localhost:8080/"
        },
        "id": "MPoTukIfPK8N",
        "outputId": "01f90fe9-a96b-4b02-c477-37c4d96c4cd3"
      },
      "source": [
        "test_model(test_generator, Y_test)"
      ],
      "execution_count": null,
      "outputs": [
        {
          "output_type": "stream",
          "text": [
            "confusion_matrix\n",
            "[[477   1   2]\n",
            " [  0 478   2]\n",
            " [  0  13 467]]\n",
            "\n",
            "Accuracy: 0.99\n",
            "\n",
            "Weighted Precision: 0.99\n",
            "Weighted Recall: 0.99\n",
            "Weighted F1-score: 0.99\n",
            "\n",
            "Classification Report\n",
            "\n",
            "                 precision    recall  f1-score   support\n",
            "\n",
            "          Covid       1.00      0.99      1.00       480\n",
            "         Normal       0.97      1.00      0.98       480\n",
            "Viral Pneumonia       0.99      0.97      0.98       480\n",
            "\n",
            "       accuracy                           0.99      1440\n",
            "      macro avg       0.99      0.99      0.99      1440\n",
            "   weighted avg       0.99      0.99      0.99      1440\n",
            "\n"
          ],
          "name": "stdout"
        }
      ]
    },
    {
      "cell_type": "markdown",
      "metadata": {
        "id": "GfgO1mbW4HoV"
      },
      "source": [
        "**DenseNet**"
      ]
    },
    {
      "cell_type": "code",
      "metadata": {
        "id": "O8DRI4zC_pWe",
        "colab": {
          "base_uri": "https://localhost:8080/"
        },
        "outputId": "0b6135b7-c6a3-47f7-cd1b-e847b5279b19"
      },
      "source": [
        "base_model = tf.keras.applications.DenseNet121(\r\n",
        "                include_top=False,\r\n",
        "                weights=\"imagenet\",\r\n",
        "                input_tensor=None,\r\n",
        "                input_shape=(256,256,3),\r\n",
        "                pooling='avg',\r\n",
        "                classes=3,\r\n",
        "                )\r\n",
        "\r\n",
        "base_model.trainable = False\r\n",
        "inputs = keras.Input(shape=(256, 256,3))\r\n",
        "x = base_model(inputs, training=False)\r\n",
        "outputs = keras.layers.Dense(3 ,activation='softmax')(x)\r\n",
        "model = keras.Model(inputs, outputs)"
      ],
      "execution_count": null,
      "outputs": [
        {
          "output_type": "stream",
          "text": [
            "Downloading data from https://storage.googleapis.com/tensorflow/keras-applications/densenet/densenet121_weights_tf_dim_ordering_tf_kernels_notop.h5\n",
            "29089792/29084464 [==============================] - 0s 0us/step\n"
          ],
          "name": "stdout"
        }
      ]
    },
    {
      "cell_type": "code",
      "metadata": {
        "id": "cu_qFSwIB37R",
        "colab": {
          "base_uri": "https://localhost:8080/"
        },
        "outputId": "2159c886-7ca7-4102-ae9c-a6850e4415c4"
      },
      "source": [
        "model.summary()"
      ],
      "execution_count": null,
      "outputs": [
        {
          "output_type": "stream",
          "text": [
            "Model: \"model\"\n",
            "_________________________________________________________________\n",
            "Layer (type)                 Output Shape              Param #   \n",
            "=================================================================\n",
            "input_2 (InputLayer)         [(None, 256, 256, 3)]     0         \n",
            "_________________________________________________________________\n",
            "densenet121 (Functional)     (None, 1024)              7037504   \n",
            "_________________________________________________________________\n",
            "dense (Dense)                (None, 3)                 3075      \n",
            "=================================================================\n",
            "Total params: 7,040,579\n",
            "Trainable params: 3,075\n",
            "Non-trainable params: 7,037,504\n",
            "_________________________________________________________________\n"
          ],
          "name": "stdout"
        }
      ]
    },
    {
      "cell_type": "code",
      "metadata": {
        "id": "agvFRxlgB4Dg",
        "colab": {
          "base_uri": "https://localhost:8080/"
        },
        "outputId": "b6898ba4-f8a0-43c4-bf8a-e568d3f35ac4"
      },
      "source": [
        "training_loop(20, 32, training_generator, validation_generator)"
      ],
      "execution_count": null,
      "outputs": [
        {
          "output_type": "stream",
          "text": [
            "\n",
            "\n",
            "Start of epoch  0\n",
            "Training acc over epoch: 0.4560\n",
            "Loss value over epoch: 1.1281\n",
            "Validation acc: 0.6354\n",
            "\n",
            "\n",
            "Start of epoch  1\n",
            "Training acc over epoch: 0.7407\n",
            "Loss value over epoch: 0.7432\n",
            "Validation acc: 0.8229\n",
            "\n",
            "\n",
            "Start of epoch  2\n",
            "Training acc over epoch: 0.8454\n",
            "Loss value over epoch: 0.5598\n",
            "Validation acc: 0.8833\n",
            "\n",
            "\n",
            "Start of epoch  3\n",
            "Training acc over epoch: 0.8900\n",
            "Loss value over epoch: 0.4499\n",
            "Validation acc: 0.9076\n",
            "\n",
            "\n",
            "Start of epoch  4\n",
            "Training acc over epoch: 0.9120\n",
            "Loss value over epoch: 0.3790\n",
            "Validation acc: 0.9187\n",
            "\n",
            "\n",
            "Start of epoch  5\n",
            "Training acc over epoch: 0.9252\n",
            "Loss value over epoch: 0.3304\n",
            "Validation acc: 0.9285\n",
            "\n",
            "\n",
            "Start of epoch  6\n",
            "Training acc over epoch: 0.9317\n",
            "Loss value over epoch: 0.2952\n",
            "Validation acc: 0.9333\n",
            "\n",
            "\n",
            "Start of epoch  7\n",
            "Training acc over epoch: 0.9350\n",
            "Loss value over epoch: 0.2688\n",
            "Validation acc: 0.9361\n",
            "\n",
            "\n",
            "Start of epoch  8\n",
            "Training acc over epoch: 0.9373\n",
            "Loss value over epoch: 0.2482\n",
            "Validation acc: 0.9361\n",
            "\n",
            "\n",
            "Start of epoch  9\n",
            "Training acc over epoch: 0.9403\n",
            "Loss value over epoch: 0.2316\n",
            "Validation acc: 0.9361\n",
            "\n",
            "\n",
            "Start of epoch  10\n",
            "Training acc over epoch: 0.9410\n",
            "Loss value over epoch: 0.2180\n",
            "Validation acc: 0.9410\n",
            "\n",
            "\n",
            "Start of epoch  11\n",
            "Training acc over epoch: 0.9428\n",
            "Loss value over epoch: 0.2066\n",
            "Validation acc: 0.9438\n",
            "\n",
            "\n",
            "Start of epoch  12\n",
            "Training acc over epoch: 0.9444\n",
            "Loss value over epoch: 0.1969\n",
            "Validation acc: 0.9444\n",
            "\n",
            "\n",
            "Start of epoch  13\n",
            "Training acc over epoch: 0.9458\n",
            "Loss value over epoch: 0.1885\n",
            "Validation acc: 0.9472\n",
            "\n",
            "\n",
            "Start of epoch  14\n",
            "Training acc over epoch: 0.9463\n",
            "Loss value over epoch: 0.1811\n",
            "Validation acc: 0.9479\n",
            "\n",
            "\n",
            "Start of epoch  15\n",
            "Training acc over epoch: 0.9479\n",
            "Loss value over epoch: 0.1745\n",
            "Validation acc: 0.9479\n",
            "\n",
            "\n",
            "Start of epoch  16\n",
            "Training acc over epoch: 0.9498\n",
            "Loss value over epoch: 0.1686\n",
            "Validation acc: 0.9486\n",
            "\n",
            "\n",
            "Start of epoch  17\n",
            "Training acc over epoch: 0.9502\n",
            "Loss value over epoch: 0.1633\n",
            "Validation acc: 0.9493\n",
            "\n",
            "\n",
            "Start of epoch  18\n",
            "Training acc over epoch: 0.9514\n",
            "Loss value over epoch: 0.1584\n",
            "Validation acc: 0.9514\n",
            "\n",
            "\n",
            "Start of epoch  19\n",
            "Training acc over epoch: 0.9523\n",
            "Loss value over epoch: 0.1540\n",
            "Validation acc: 0.9521\n"
          ],
          "name": "stdout"
        }
      ]
    },
    {
      "cell_type": "code",
      "metadata": {
        "id": "N02xNOnEB4Ks",
        "colab": {
          "base_uri": "https://localhost:8080/"
        },
        "outputId": "173101d0-37b3-48a2-8627-6e28872c62b9"
      },
      "source": [
        "base_model.trainable = True\r\n",
        "model.summary()"
      ],
      "execution_count": null,
      "outputs": [
        {
          "output_type": "stream",
          "text": [
            "Model: \"model\"\n",
            "_________________________________________________________________\n",
            "Layer (type)                 Output Shape              Param #   \n",
            "=================================================================\n",
            "input_2 (InputLayer)         [(None, 256, 256, 3)]     0         \n",
            "_________________________________________________________________\n",
            "densenet121 (Functional)     (None, 1024)              7037504   \n",
            "_________________________________________________________________\n",
            "dense (Dense)                (None, 3)                 3075      \n",
            "=================================================================\n",
            "Total params: 7,040,579\n",
            "Trainable params: 6,956,931\n",
            "Non-trainable params: 83,648\n",
            "_________________________________________________________________\n"
          ],
          "name": "stdout"
        }
      ]
    },
    {
      "cell_type": "code",
      "metadata": {
        "id": "MFsRKnCWB4R4",
        "colab": {
          "base_uri": "https://localhost:8080/"
        },
        "outputId": "c747721c-7ff4-49ac-e153-230bc439ef68"
      },
      "source": [
        "training_loop(10, 32, training_generator, validation_generator)"
      ],
      "execution_count": null,
      "outputs": [
        {
          "output_type": "stream",
          "text": [
            "\n",
            "\n",
            "Start of epoch  0\n",
            "Training acc over epoch: 0.9174\n",
            "Loss value over epoch: 0.2646\n",
            "Validation acc: 0.9590\n",
            "\n",
            "\n",
            "Start of epoch  1\n",
            "Training acc over epoch: 0.9639\n",
            "Loss value over epoch: 0.1094\n",
            "Validation acc: 0.9500\n",
            "\n",
            "\n",
            "Start of epoch  2\n",
            "Training acc over epoch: 0.9741\n",
            "Loss value over epoch: 0.0717\n",
            "Validation acc: 0.9674\n",
            "\n",
            "\n",
            "Start of epoch  3\n",
            "Training acc over epoch: 0.9854\n",
            "Loss value over epoch: 0.0439\n",
            "Validation acc: 0.9799\n",
            "\n",
            "\n",
            "Start of epoch  4\n",
            "Training acc over epoch: 0.9863\n",
            "Loss value over epoch: 0.0375\n",
            "Validation acc: 0.9590\n",
            "\n",
            "\n",
            "Start of epoch  5\n",
            "Training acc over epoch: 0.9850\n",
            "Loss value over epoch: 0.0413\n",
            "Validation acc: 0.9722\n",
            "\n",
            "\n",
            "Start of epoch  6\n",
            "Training acc over epoch: 0.9850\n",
            "Loss value over epoch: 0.0394\n",
            "Validation acc: 0.9743\n",
            "\n",
            "\n",
            "Start of epoch  7\n",
            "Training acc over epoch: 0.9845\n",
            "Loss value over epoch: 0.0423\n",
            "Validation acc: 0.9743\n",
            "\n",
            "\n",
            "Start of epoch  8\n",
            "Training acc over epoch: 0.9875\n",
            "Loss value over epoch: 0.0324\n",
            "Validation acc: 0.9833\n",
            "\n",
            "\n",
            "Start of epoch  9\n",
            "Training acc over epoch: 0.9937\n",
            "Loss value over epoch: 0.0136\n",
            "Validation acc: 0.9771\n"
          ],
          "name": "stdout"
        }
      ]
    },
    {
      "cell_type": "code",
      "metadata": {
        "colab": {
          "base_uri": "https://localhost:8080/"
        },
        "id": "ilB6MJEEPL_H",
        "outputId": "bee5cd07-61bb-4f2e-a5cc-05877e8d2e6d"
      },
      "source": [
        "test_model(test_generator, Y_test)"
      ],
      "execution_count": null,
      "outputs": [
        {
          "output_type": "stream",
          "text": [
            "confusion_matrix\n",
            "[[480   0   0]\n",
            " [  1 479   0]\n",
            " [  6  21 453]]\n",
            "\n",
            "Accuracy: 0.98\n",
            "\n",
            "Weighted Precision: 0.98\n",
            "Weighted Recall: 0.98\n",
            "Weighted F1-score: 0.98\n",
            "\n",
            "Classification Report\n",
            "\n",
            "                 precision    recall  f1-score   support\n",
            "\n",
            "          Covid       0.99      1.00      0.99       480\n",
            "         Normal       0.96      1.00      0.98       480\n",
            "Viral Pneumonia       1.00      0.94      0.97       480\n",
            "\n",
            "       accuracy                           0.98      1440\n",
            "      macro avg       0.98      0.98      0.98      1440\n",
            "   weighted avg       0.98      0.98      0.98      1440\n",
            "\n"
          ],
          "name": "stdout"
        }
      ]
    },
    {
      "cell_type": "markdown",
      "metadata": {
        "id": "qf1UGLth7088"
      },
      "source": [
        "\n",
        "\n",
        "**Using different split values**"
      ]
    },
    {
      "cell_type": "markdown",
      "metadata": {
        "id": "Q6X95Yk09cYs"
      },
      "source": [
        "**Splitting ratio: (80:10:10)**"
      ]
    },
    {
      "cell_type": "code",
      "metadata": {
        "colab": {
          "base_uri": "https://localhost:8080/"
        },
        "id": "OCGyGk397930",
        "outputId": "7f5d5b99-aa52-4b2d-9757-111c9fe05ba6"
      },
      "source": [
        "# split data into train and test (85:15)\r\n",
        "X_train, X_test, Y_train, Y_test = train_test_split(data, label_vector, test_size=0.15, random_state=1, stratify=label_vector)\r\n",
        "\r\n",
        "# split train data into train and validation (88.9:11.1)\r\n",
        "X_train, X_validation, Y_train, Y_validation = train_test_split(X_train, Y_train, test_size=0.1764, random_state=1, stratify=Y_train)\r\n",
        "\r\n",
        "print(X_train.shape)\r\n",
        "print(X_validation.shape)\r\n",
        "print(X_test.shape)"
      ],
      "execution_count": null,
      "outputs": [
        {
          "output_type": "stream",
          "text": [
            "(5040,)\n",
            "(1080,)\n",
            "(1080,)\n"
          ],
          "name": "stdout"
        }
      ]
    },
    {
      "cell_type": "code",
      "metadata": {
        "id": "mjzYMUBP-VPN"
      },
      "source": [
        "partition = {\r\n",
        "    \"train\": X_train,\r\n",
        "    \"validation\": X_validation,\r\n",
        "    \"test\": X_test\r\n",
        "}"
      ],
      "execution_count": null,
      "outputs": []
    },
    {
      "cell_type": "code",
      "metadata": {
        "id": "gAvL5isz-Nb5"
      },
      "source": [
        "training_generator = DataGenerator(partition['train'], label_vector, 32, (256, 256), 3, True,3,shuffle=True)\r\n",
        "validation_generator = DataGenerator(partition['validation'], label_vector, 32, (256, 256), 3, True,3,shuffle=True)\r\n",
        "test_generator = DataGenerator(partition['test'], label_vector, 32, (256, 256), 3, True,3,shuffle=True)"
      ],
      "execution_count": null,
      "outputs": []
    },
    {
      "cell_type": "code",
      "metadata": {
        "colab": {
          "base_uri": "https://localhost:8080/"
        },
        "id": "KAbhsd3D-BfP",
        "outputId": "50d7a653-db29-41b2-fc69-668a44c84c6b"
      },
      "source": [
        "model = Sequential()\r\n",
        "model.add(Conv2D(64, (3, 3), activation='relu', input_shape=(256, 256, 3)))\r\n",
        "model.add(MaxPooling2D((2, 2)))\r\n",
        "model.add(Conv2D(128, (3, 3), activation='relu'))\r\n",
        "model.add(MaxPooling2D((2, 2)))\r\n",
        "model.add(Conv2D(128, (3, 3), activation='relu'))\r\n",
        "model.add(MaxPooling2D((2, 2)))\r\n",
        "model.add(Conv2D(128, (3, 3), activation='relu'))\r\n",
        "model.add(Flatten())\r\n",
        "model.add(Dense(64,activation='relu'))\r\n",
        "model.add(Dense(32,activation='relu'))\r\n",
        "model.add(Dense(3, activation='softmax'))\r\n",
        "model.summary()"
      ],
      "execution_count": null,
      "outputs": [
        {
          "output_type": "stream",
          "text": [
            "Model: \"sequential_2\"\n",
            "_________________________________________________________________\n",
            "Layer (type)                 Output Shape              Param #   \n",
            "=================================================================\n",
            "conv2d_8 (Conv2D)            (None, 254, 254, 64)      1792      \n",
            "_________________________________________________________________\n",
            "max_pooling2d_6 (MaxPooling2 (None, 127, 127, 64)      0         \n",
            "_________________________________________________________________\n",
            "conv2d_9 (Conv2D)            (None, 125, 125, 128)     73856     \n",
            "_________________________________________________________________\n",
            "max_pooling2d_7 (MaxPooling2 (None, 62, 62, 128)       0         \n",
            "_________________________________________________________________\n",
            "conv2d_10 (Conv2D)           (None, 60, 60, 128)       147584    \n",
            "_________________________________________________________________\n",
            "max_pooling2d_8 (MaxPooling2 (None, 30, 30, 128)       0         \n",
            "_________________________________________________________________\n",
            "conv2d_11 (Conv2D)           (None, 28, 28, 128)       147584    \n",
            "_________________________________________________________________\n",
            "flatten_2 (Flatten)          (None, 100352)            0         \n",
            "_________________________________________________________________\n",
            "dense_7 (Dense)              (None, 64)                6422592   \n",
            "_________________________________________________________________\n",
            "dense_8 (Dense)              (None, 32)                2080      \n",
            "_________________________________________________________________\n",
            "dense_9 (Dense)              (None, 3)                 99        \n",
            "=================================================================\n",
            "Total params: 6,795,587\n",
            "Trainable params: 6,795,587\n",
            "Non-trainable params: 0\n",
            "_________________________________________________________________\n"
          ],
          "name": "stdout"
        }
      ]
    },
    {
      "cell_type": "code",
      "metadata": {
        "colab": {
          "base_uri": "https://localhost:8080/"
        },
        "id": "9hVBI5XZ-dWF",
        "outputId": "ff8dac5a-0e79-4b6f-b7b2-9cb909f31370"
      },
      "source": [
        "training_loop(20,32,training_generator,validation_generator)"
      ],
      "execution_count": null,
      "outputs": [
        {
          "output_type": "stream",
          "text": [
            "\n",
            "\n",
            "Start of epoch  0\n",
            "Training acc over epoch: 0.8246\n",
            "Loss value over epoch: 0.4485\n",
            "Validation acc: 0.8944\n",
            "\n",
            "\n",
            "Start of epoch  1\n",
            "Training acc over epoch: 0.9208\n",
            "Loss value over epoch: 0.2226\n",
            "Validation acc: 0.9306\n",
            "\n",
            "\n",
            "Start of epoch  2\n",
            "Training acc over epoch: 0.9393\n",
            "Loss value over epoch: 0.1658\n",
            "Validation acc: 0.9426\n",
            "\n",
            "\n",
            "Start of epoch  3\n",
            "Training acc over epoch: 0.9558\n",
            "Loss value over epoch: 0.1255\n",
            "Validation acc: 0.9324\n",
            "\n",
            "\n",
            "Start of epoch  4\n",
            "Training acc over epoch: 0.9633\n",
            "Loss value over epoch: 0.1037\n",
            "Validation acc: 0.9398\n",
            "\n",
            "\n",
            "Start of epoch  5\n",
            "Training acc over epoch: 0.9726\n",
            "Loss value over epoch: 0.0811\n",
            "Validation acc: 0.9426\n",
            "\n",
            "\n",
            "Start of epoch  6\n",
            "Training acc over epoch: 0.9788\n",
            "Loss value over epoch: 0.0666\n",
            "Validation acc: 0.9463\n",
            "\n",
            "\n",
            "Start of epoch  7\n",
            "Training acc over epoch: 0.9839\n",
            "Loss value over epoch: 0.0507\n",
            "Validation acc: 0.9528\n",
            "\n",
            "\n",
            "Start of epoch  8\n",
            "Training acc over epoch: 0.9835\n",
            "Loss value over epoch: 0.0442\n",
            "Validation acc: 0.9509\n",
            "\n",
            "\n",
            "Start of epoch  9\n",
            "Training acc over epoch: 0.9889\n",
            "Loss value over epoch: 0.0350\n",
            "Validation acc: 0.9491\n",
            "\n",
            "\n",
            "Start of epoch  10\n",
            "Training acc over epoch: 0.9921\n",
            "Loss value over epoch: 0.0256\n",
            "Validation acc: 0.9509\n",
            "\n",
            "\n",
            "Start of epoch  11\n",
            "Training acc over epoch: 0.9960\n",
            "Loss value over epoch: 0.0147\n",
            "Validation acc: 0.9509\n",
            "\n",
            "\n",
            "Start of epoch  12\n",
            "Training acc over epoch: 0.9978\n",
            "Loss value over epoch: 0.0082\n",
            "Validation acc: 0.9509\n",
            "\n",
            "\n",
            "Start of epoch  13\n",
            "Training acc over epoch: 0.9982\n",
            "Loss value over epoch: 0.0087\n",
            "Validation acc: 0.9491\n",
            "\n",
            "\n",
            "Start of epoch  14\n",
            "Training acc over epoch: 0.9940\n",
            "Loss value over epoch: 0.0176\n",
            "Validation acc: 0.9417\n",
            "\n",
            "\n",
            "Start of epoch  15\n",
            "Training acc over epoch: 0.9921\n",
            "Loss value over epoch: 0.0229\n",
            "Validation acc: 0.9528\n",
            "\n",
            "\n",
            "Start of epoch  16\n",
            "Training acc over epoch: 0.9927\n",
            "Loss value over epoch: 0.0226\n",
            "Validation acc: 0.9509\n",
            "\n",
            "\n",
            "Start of epoch  17\n",
            "Training acc over epoch: 0.9923\n",
            "Loss value over epoch: 0.0225\n",
            "Validation acc: 0.9463\n",
            "\n",
            "\n",
            "Start of epoch  18\n",
            "Training acc over epoch: 0.9970\n",
            "Loss value over epoch: 0.0103\n",
            "Validation acc: 0.9519\n",
            "\n",
            "\n",
            "Start of epoch  19\n",
            "Training acc over epoch: 0.9984\n",
            "Loss value over epoch: 0.0053\n",
            "Validation acc: 0.9472\n"
          ],
          "name": "stdout"
        }
      ]
    },
    {
      "cell_type": "code",
      "metadata": {
        "colab": {
          "base_uri": "https://localhost:8080/"
        },
        "id": "vfFtXAiF-nTr",
        "outputId": "d9f5c872-a8a1-42f1-8e81-e9fc36451861"
      },
      "source": [
        "#test_model(test_generator,Y_test)\r\n",
        "y_truth = []\r\n",
        "y_hat = []\r\n",
        "num_batches_test = test_generator.__len__()\r\n",
        "for j in range(num_batches_test):\r\n",
        "  x,y = test_generator.__getitem__(j)\r\n",
        "  #print(x.shape,y.shape)\r\n",
        "  y_pred = model.predict(x)\r\n",
        "  for i in range(len(y)):\r\n",
        "    max_number_truth = max(y[i])\r\n",
        "    index_of_maximum_truth = np.where(y[i] == max_number_truth)\r\n",
        "    y_truth.append(index_of_maximum_truth[0][0])\r\n",
        "    max_number_pred = max(y_pred[i])\r\n",
        "    index_of_maximum_pred = np.where(y_pred[i] == max_number_pred)\r\n",
        "    y_hat.append(index_of_maximum_pred[0][0])\r\n",
        "    \r\n",
        "print(report(y_hat,y_truth))"
      ],
      "execution_count": null,
      "outputs": [
        {
          "output_type": "stream",
          "text": [
            "confusion_matrix\n",
            "[[355   1   4]\n",
            " [  2 349   9]\n",
            " [  9  18 333]]\n",
            "\n",
            "Accuracy: 0.96\n",
            "\n",
            "Weighted Precision: 0.96\n",
            "Weighted Recall: 0.96\n",
            "Weighted F1-score: 0.96\n",
            "\n",
            "Classification Report\n",
            "\n",
            "                 precision    recall  f1-score   support\n",
            "\n",
            "          Covid       0.97      0.99      0.98       360\n",
            "         Normal       0.95      0.97      0.96       360\n",
            "Viral Pneumonia       0.96      0.93      0.94       360\n",
            "\n",
            "       accuracy                           0.96      1080\n",
            "      macro avg       0.96      0.96      0.96      1080\n",
            "   weighted avg       0.96      0.96      0.96      1080\n",
            "\n",
            "None\n"
          ],
          "name": "stdout"
        }
      ]
    }
  ]
}